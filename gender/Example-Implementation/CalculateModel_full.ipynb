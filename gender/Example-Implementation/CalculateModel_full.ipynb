{
 "cells": [
  {
   "cell_type": "markdown",
   "id": "1c05cc43-ab2f-4578-a061-685b46c22749",
   "metadata": {},
   "source": [
    "# Define Imports"
   ]
  },
  {
   "cell_type": "code",
   "execution_count": 1,
   "id": "12498a1e-4c09-418a-b530-b87a47b0c269",
   "metadata": {
    "tags": []
   },
   "outputs": [],
   "source": [
    "import cv2\n",
    "import numpy as np\n",
    "import matplotlib.pyplot as plt\n",
    "import tensorflow as tf\n",
    "\n",
    "from matplotlib.image import imread\n",
    "from tensorflow.keras import regularizers, initializers, Sequential\n",
    "from tensorflow.keras.layers import Conv2D, Dropout, MaxPooling2D, SpatialDropout2D, GlobalMaxPooling2D, AveragePooling2D, Flatten, Dense, GlobalAveragePooling2D, BatchNormalization\n",
    "from tensorflow.keras.optimizers import SGD, Adam\n",
    "from tensorflow.keras.callbacks import EarlyStopping, ReduceLROnPlateau\n",
    "from typing import Any, Dict, List, Tuple"
   ]
  },
  {
   "cell_type": "markdown",
   "id": "580e1a12-e220-4a7e-bb21-0a62c93c4000",
   "metadata": {},
   "source": [
    "# Define Variables"
   ]
  },
  {
   "cell_type": "code",
   "execution_count": 2,
   "id": "6e88ecc6-4283-4cb9-8706-f79a16ddc35d",
   "metadata": {
    "tags": []
   },
   "outputs": [],
   "source": [
    "kernel_s = (3, 3)  # Size of weights of a convolutional layer\n",
    "pool_s = (2, 2)  # Size of window to compute max pooling 2D of\n",
    "input_shape=(5, 5, 3)"
   ]
  },
  {
   "cell_type": "code",
   "execution_count": 3,
   "id": "b335b50d-abc8-4ee4-95e0-bdaccbeea50a",
   "metadata": {
    "tags": []
   },
   "outputs": [],
   "source": [
    "image = np.array([\n",
    "    [[139, 142, 65], [32, 124, 201], [12, 234, 84], [23, 68, 216], [174, 12, 184]],\n",
    "    [[74, 231, 129], [64, 244, 184], [217, 147, 53], [ 201, 23, 195], [84, 127, 38]],\n",
    "    [[206, 23, 134], [126, 201, 215], [173, 45, 218], [207, 194, 219], [128, 194, 53]],\n",
    "    [[12, 215, 185], [196, 231, 53], [73, 167, 43], [120, 32, 94], [185, 194, 63]],\n",
    "    [[126, 218, 242], [63, 128, 84], [95, 128, 216], [107, 210, 79], [194, 96, 196]]\n",
    "], dtype=np.int32)"
   ]
  },
  {
   "cell_type": "code",
   "execution_count": 4,
   "id": "edd06c34-adf1-4c42-8d6d-4110b141b34c",
   "metadata": {
    "scrolled": false,
    "tags": []
   },
   "outputs": [
    {
     "data": {
      "image/png": "[encoded data removed]",
      "text/plain": [
       "<Figure size 640x480 with 1 Axes>"
      ]
     },
     "metadata": {},
     "output_type": "display_data"
    }
   ],
   "source": [
    "plt.imshow(image, interpolation='nearest')\n",
    "plt.show()"
   ]
  },
  {
   "cell_type": "code",
   "execution_count": 5,
   "id": "571c65b2",
   "metadata": {},
   "outputs": [],
   "source": [
    "def sigmoid(x: np.float32):  # Remove later\n",
    "    return 1 / (1 + np.exp(-x))"
   ]
  },
  {
   "cell_type": "markdown",
   "id": "ae51ac22-56bf-4a7f-98d8-2db20206a64f",
   "metadata": {},
   "source": [
    "# Conv2D Layer"
   ]
  },
  {
   "cell_type": "code",
   "execution_count": 6,
   "id": "9247286f",
   "metadata": {},
   "outputs": [
    {
     "data": {
      "text/plain": [
       "array([[[3717.],\n",
       "        [3920.],\n",
       "        [3523.]],\n",
       "\n",
       "       [[3859.],\n",
       "        [3935.],\n",
       "        [3487.]],\n",
       "\n",
       "       [[3816.],\n",
       "        [3717.],\n",
       "        [3723.]]])"
      ]
     },
     "execution_count": 6,
     "metadata": {},
     "output_type": "execute_result"
    }
   ],
   "source": [
    "# Compute first layer Conv2D on my own\n",
    "weights = np.ones((*kernel_s, 3))  # 3x3x3 matrix initialized with ones\n",
    "# weights = np.array(conv.weights).reshape((*kernel_s, 3))  # Would work as well with initialization of the tensorflow Conv2D weights\n",
    "resulting_image = np.zeros((3, 3, 1))  # 3x3x1 matrix for results initialized with zeros\n",
    "\n",
    "for row in range(3):  # Iterate over rows\n",
    "    for col in range(3):  # Iterate over columns\n",
    "        element_wise_multiplication = image[row:row + 3, col:col + 3] * weights  # Elementwise multiplication\n",
    "        raveled_elements = element_wise_multiplication.ravel()  # Ravel elements for computing sum of them\n",
    "        resulting_image[row][col][0] = sum(raveled_elements)\n",
    "\n",
    "resulting_image"
   ]
  },
  {
   "cell_type": "code",
   "execution_count": 7,
   "id": "39154c91-8012-4d3f-b12f-25b3a927e883",
   "metadata": {
    "scrolled": false,
    "tags": []
   },
   "outputs": [
    {
     "data": {
      "text/plain": [
       "<tf.Tensor: shape=(3, 3, 1), dtype=float32, numpy=\n",
       "array([[[3717.],\n",
       "        [3920.],\n",
       "        [3523.]],\n",
       "\n",
       "       [[3859.],\n",
       "        [3935.],\n",
       "        [3487.]],\n",
       "\n",
       "       [[3816.],\n",
       "        [3717.],\n",
       "        [3723.]]], dtype=float32)>"
      ]
     },
     "execution_count": 7,
     "metadata": {},
     "output_type": "execute_result"
    }
   ],
   "source": [
    "# Compute first layer with predefined layer Conv2D\n",
    "converted_image = np.array(image, dtype=np.float32)  # Convert for using in Conv2D layer\n",
    "images_to_compute = np.array([converted_image])\n",
    "conv = Conv2D(1, kernel_s, input_shape=input_shape, kernel_initializer=\"ones\", use_bias=False)  # Initialize the weights with ones like above\n",
    "conv(images_to_compute)[0]  # Tensorflow expects multiple images for AI training etc."
   ]
  },
  {
   "cell_type": "code",
   "execution_count": 8,
   "id": "408e5a52",
   "metadata": {},
   "outputs": [],
   "source": [
    "class OwnConv2D:\n",
    "\n",
    "    def __init__(self, units: int = 1, kernel_s: Tuple[int, int] = (3, 3), activation: str=None):\n",
    "        self._units = units\n",
    "        self._kernel_s = kernel_s\n",
    "        self._activation = activation\n",
    "\n",
    "    def __call__(self, images: np.ndarray, ) -> np.ndarray:\n",
    "        # Convert images into correct format\n",
    "        converted_images = np.array(images, dtype=np.float32)\n",
    "\n",
    "        # Define weights and resulting array\n",
    "        n_images = converted_images.shape[0]\n",
    "        n_rows = converted_images.shape[1] - (self._kernel_s[0] - 1)\n",
    "        n_cols = converted_images.shape[2] - (self._kernel_s[1] - 1)\n",
    "        weights = np.ones((*self._kernel_s, converted_images[0, 0, 0].shape[0]))\n",
    "        resulting_images = np.zeros((n_images, n_rows, n_cols, self._units))  # nxmx1 matrix for results initialized with zeros\n",
    "\n",
    "        # Compute output of convolution\n",
    "        for unit in range(self._units):  # Compute output of convolution for each unit (remove later)\n",
    "            for img in range(n_images):  # Iterate over all images\n",
    "                for row in range(n_rows):  # Iterate over rows\n",
    "                    for col in range(n_cols):  # Iterate over columns\n",
    "                        element_wise_multiplication = converted_images[img, row:row + self._kernel_s[0], col:col + self._kernel_s[1]] * weights  # Elementwise multiplication\n",
    "                        raveled_elements = element_wise_multiplication.ravel()  # Ravel elements for computing sum of them\n",
    "                        res_img_row_col = sum(raveled_elements)\n",
    "\n",
    "                        # Use activation function, if requested\n",
    "                        if self._activation is not None:\n",
    "                            if self._activation.lower() == \"relu\":\n",
    "                                res_img_row_col = max(0, res_img_row_col)\n",
    "                            elif self._activation.lower() == \"sigmoid\":\n",
    "                                res_img_row_col = sigmoid(res_img_row_col)\n",
    "\n",
    "                        resulting_images[img][row][col][unit] = res_img_row_col  # Replace \"unit\" with \"0\" later\n",
    "\n",
    "        return resulting_images"
   ]
  },
  {
   "cell_type": "markdown",
   "id": "6ab76eb7",
   "metadata": {},
   "source": [
    "# Concatenate Conv2D layers (own & predefined)"
   ]
  },
  {
   "cell_type": "code",
   "execution_count": 9,
   "id": "d1e7dd31",
   "metadata": {},
   "outputs": [],
   "source": [
    "# Invert image for testing activation function ReLu (remove later)\n",
    "# image = -image"
   ]
  },
  {
   "cell_type": "code",
   "execution_count": 10,
   "id": "7b87d793",
   "metadata": {},
   "outputs": [
    {
     "name": "stdout",
     "output_type": "stream",
     "text": [
      "[[[[3717.]\n",
      "   [3920.]\n",
      "   [3523.]]\n",
      "\n",
      "  [[3859.]\n",
      "   [3935.]\n",
      "   [3487.]]\n",
      "\n",
      "  [[3816.]\n",
      "   [3717.]\n",
      "   [3723.]]]]\n"
     ]
    },
    {
     "data": {
      "text/plain": [
       "array([[[[33697.]]]])"
      ]
     },
     "execution_count": 10,
     "metadata": {},
     "output_type": "execute_result"
    }
   ],
   "source": [
    "# Own model\n",
    "new_img = OwnConv2D(kernel_s=kernel_s, activation=\"relu\")(np.array([image]))\n",
    "print(new_img)\n",
    "OwnConv2D(kernel_s=kernel_s, activation=\"rElU\")(new_img)"
   ]
  },
  {
   "cell_type": "code",
   "execution_count": 11,
   "id": "f8768164",
   "metadata": {},
   "outputs": [
    {
     "name": "stdout",
     "output_type": "stream",
     "text": [
      "tf.Tensor(\n",
      "[[[[3717.]\n",
      "   [3920.]\n",
      "   [3523.]]\n",
      "\n",
      "  [[3859.]\n",
      "   [3935.]\n",
      "   [3487.]]\n",
      "\n",
      "  [[3816.]\n",
      "   [3717.]\n",
      "   [3723.]]]], shape=(1, 3, 3, 1), dtype=float32)\n"
     ]
    },
    {
     "data": {
      "text/plain": [
       "<tf.Tensor: shape=(1, 1, 1, 1), dtype=float32, numpy=array([[[[33704.]]]], dtype=float32)>"
      ]
     },
     "execution_count": 11,
     "metadata": {},
     "output_type": "execute_result"
    }
   ],
   "source": [
    "# Predefined Conv2D model from tensorflow\n",
    "converted_image = np.array(image, dtype=np.float32)  # Convert for using in Conv2D layer\n",
    "images_to_compute = np.array([converted_image])\n",
    "conv = Conv2D(1, kernel_s, input_shape=input_shape, kernel_initializer=\"ones\", use_bias=False, activation=\"relu\")  # Remove later ReLu\n",
    "conv2 = Conv2D(1, kernel_s, input_shape=(3, 3, 1), kernel_initializer=\"ones\", use_bias=False, activation=\"relu\")  # Remove later ReLu\n",
    "print(conv(images_to_compute))\n",
    "conv2(conv(images_to_compute))  # Results in a rounding error"
   ]
  },
  {
   "cell_type": "markdown",
   "id": "32b6c295",
   "metadata": {},
   "source": [
    "# Test models on real image"
   ]
  },
  {
   "cell_type": "code",
   "execution_count": 12,
   "id": "d3f79dfa",
   "metadata": {},
   "outputs": [
    {
     "data": {
      "image/png": "[encoded data removed]",
      "text/plain": [
       "<Figure size 640x480 with 1 Axes>"
      ]
     },
     "metadata": {},
     "output_type": "display_data"
    },
    {
     "data": {
      "text/plain": [
       "(218, 178, 3)"
      ]
     },
     "execution_count": 12,
     "metadata": {},
     "output_type": "execute_result"
    }
   ],
   "source": [
    "real_image = imread(\"019226.jpg\")  # Read with matplotlib\n",
    "real_images = np.array([real_image], dtype=np.float32)  # Like before multiple images are expected\n",
    "plt.imshow(real_image, interpolation='nearest')\n",
    "plt.show()\n",
    "real_image.shape"
   ]
  },
  {
   "cell_type": "code",
   "execution_count": 13,
   "id": "84d94255",
   "metadata": {},
   "outputs": [
    {
     "name": "stdout",
     "output_type": "stream",
     "text": [
      "[[[[6342.]\n",
      "   [6348.]\n",
      "   [6357.]\n",
      "   ...\n",
      "   [5808.]\n",
      "   [6036.]\n",
      "   [5862.]]\n",
      "\n",
      "  [[6390.]\n",
      "   [6384.]\n",
      "   [6375.]\n",
      "   ...\n",
      "   [5964.]\n",
      "   [6087.]\n",
      "   [5958.]]\n",
      "\n",
      "  [[6345.]\n",
      "   [6360.]\n",
      "   [6399.]\n",
      "   ...\n",
      "   [6048.]\n",
      "   [6093.]\n",
      "   [5988.]]\n",
      "\n",
      "  ...\n",
      "\n",
      "  [[6408.]\n",
      "   [6408.]\n",
      "   [6408.]\n",
      "   ...\n",
      "   [5943.]\n",
      "   [5760.]\n",
      "   [5610.]]\n",
      "\n",
      "  [[6420.]\n",
      "   [6414.]\n",
      "   [6411.]\n",
      "   ...\n",
      "   [6096.]\n",
      "   [5973.]\n",
      "   [5856.]]\n",
      "\n",
      "  [[6432.]\n",
      "   [6420.]\n",
      "   [6414.]\n",
      "   ...\n",
      "   [6171.]\n",
      "   [6126.]\n",
      "   [6066.]]]] \n",
      "\n",
      "[[[[57300.]\n",
      "   [57387.]\n",
      "   [57357.]\n",
      "   ...\n",
      "   [48369.]\n",
      "   [52659.]\n",
      "   [53844.]]\n",
      "\n",
      "  [[56817.]\n",
      "   [57165.]\n",
      "   [57315.]\n",
      "   ...\n",
      "   [51180.]\n",
      "   [53790.]\n",
      "   [54267.]]\n",
      "\n",
      "  [[55056.]\n",
      "   [55797.]\n",
      "   [56529.]\n",
      "   ...\n",
      "   [53055.]\n",
      "   [54303.]\n",
      "   [54369.]]\n",
      "\n",
      "  ...\n",
      "\n",
      "  [[57672.]\n",
      "   [57672.]\n",
      "   [57672.]\n",
      "   ...\n",
      "   [52551.]\n",
      "   [51213.]\n",
      "   [49878.]]\n",
      "\n",
      "  [[57693.]\n",
      "   [57684.]\n",
      "   [57684.]\n",
      "   ...\n",
      "   [54000.]\n",
      "   [53028.]\n",
      "   [51879.]]\n",
      "\n",
      "  [[57735.]\n",
      "   [57708.]\n",
      "   [57708.]\n",
      "   ...\n",
      "   [54885.]\n",
      "   [54348.]\n",
      "   [53601.]]]]\n"
     ]
    }
   ],
   "source": [
    "# Own model\n",
    "new_img_own_model = OwnConv2D(kernel_s=kernel_s)(real_images)\n",
    "print(new_img_own_model, \"\\n\")\n",
    "new_img_own_model_2 = OwnConv2D(kernel_s=kernel_s)(new_img_own_model)\n",
    "print(new_img_own_model_2)"
   ]
  },
  {
   "cell_type": "code",
   "execution_count": 14,
   "id": "6ae21d30",
   "metadata": {},
   "outputs": [
    {
     "name": "stdout",
     "output_type": "stream",
     "text": [
      "tf.Tensor(\n",
      "[[[[6342.]\n",
      "   [6348.]\n",
      "   [6357.]\n",
      "   ...\n",
      "   [5808.]\n",
      "   [6036.]\n",
      "   [5862.]]\n",
      "\n",
      "  [[6390.]\n",
      "   [6384.]\n",
      "   [6375.]\n",
      "   ...\n",
      "   [5964.]\n",
      "   [6087.]\n",
      "   [5958.]]\n",
      "\n",
      "  [[6345.]\n",
      "   [6360.]\n",
      "   [6399.]\n",
      "   ...\n",
      "   [6048.]\n",
      "   [6093.]\n",
      "   [5988.]]\n",
      "\n",
      "  ...\n",
      "\n",
      "  [[6408.]\n",
      "   [6408.]\n",
      "   [6408.]\n",
      "   ...\n",
      "   [5943.]\n",
      "   [5760.]\n",
      "   [5610.]]\n",
      "\n",
      "  [[6420.]\n",
      "   [6414.]\n",
      "   [6411.]\n",
      "   ...\n",
      "   [6096.]\n",
      "   [5973.]\n",
      "   [5856.]]\n",
      "\n",
      "  [[6432.]\n",
      "   [6420.]\n",
      "   [6414.]\n",
      "   ...\n",
      "   [6171.]\n",
      "   [6126.]\n",
      "   [6066.]]]], shape=(1, 216, 176, 1), dtype=float32) \n",
      "\n",
      "tf.Tensor(\n",
      "[[[[57300.]\n",
      "   [57387.]\n",
      "   [57357.]\n",
      "   ...\n",
      "   [48369.]\n",
      "   [52659.]\n",
      "   [53844.]]\n",
      "\n",
      "  [[56817.]\n",
      "   [57165.]\n",
      "   [57315.]\n",
      "   ...\n",
      "   [51180.]\n",
      "   [53790.]\n",
      "   [54267.]]\n",
      "\n",
      "  [[55056.]\n",
      "   [55797.]\n",
      "   [56529.]\n",
      "   ...\n",
      "   [53055.]\n",
      "   [54303.]\n",
      "   [54369.]]\n",
      "\n",
      "  ...\n",
      "\n",
      "  [[57672.]\n",
      "   [57672.]\n",
      "   [57672.]\n",
      "   ...\n",
      "   [52551.]\n",
      "   [51213.]\n",
      "   [49878.]]\n",
      "\n",
      "  [[57693.]\n",
      "   [57684.]\n",
      "   [57684.]\n",
      "   ...\n",
      "   [54000.]\n",
      "   [53028.]\n",
      "   [51879.]]\n",
      "\n",
      "  [[57735.]\n",
      "   [57708.]\n",
      "   [57708.]\n",
      "   ...\n",
      "   [54885.]\n",
      "   [54348.]\n",
      "   [53601.]]]], shape=(1, 214, 174, 1), dtype=float32)\n"
     ]
    }
   ],
   "source": [
    "# Predfined Conv2D model from tensorflow\n",
    "converted_images = np.array(real_images, dtype=np.float32)  # Convert for using in Conv2D layer\n",
    "conv = Conv2D(1, kernel_s, input_shape=(218, 178, 3), kernel_initializer=\"ones\", use_bias=False)\n",
    "conv2 = Conv2D(1, kernel_s, input_shape=(216, 176, 3), kernel_initializer=\"ones\", use_bias=False)\n",
    "new_img_predef_model = conv(converted_images)\n",
    "new_img_predef_model_2 = conv2(new_img_predef_model)\n",
    "print(new_img_predef_model, \"\\n\")\n",
    "print(new_img_predef_model_2)"
   ]
  },
  {
   "cell_type": "code",
   "execution_count": 15,
   "id": "76c367f6",
   "metadata": {},
   "outputs": [
    {
     "name": "stdout",
     "output_type": "stream",
     "text": [
      "True\n",
      "True\n"
     ]
    }
   ],
   "source": [
    "# Check for equality\n",
    "print(np.allclose(new_img_own_model, new_img_predef_model))\n",
    "print(np.allclose(new_img_own_model_2, new_img_predef_model_2))\n",
    "\n",
    "assert np.allclose(new_img_own_model, new_img_predef_model)\n",
    "assert np.allclose(new_img_own_model_2, new_img_predef_model_2)"
   ]
  },
  {
   "cell_type": "markdown",
   "id": "b6059560",
   "metadata": {},
   "source": [
    "# MaxPooling2D Layer"
   ]
  },
  {
   "cell_type": "code",
   "execution_count": 16,
   "id": "3246f0a9",
   "metadata": {},
   "outputs": [],
   "source": [
    "# Original image\n",
    "image = np.array([\n",
    "    [[139, 142, 65], [32, 124, 201], [12, 234, 84], [23, 68, 216], [174, 12, 184]],\n",
    "    [[74, 231, 129], [64, 244, 184], [217, 147, 53], [ 201, 23, 195], [84, 127, 38]],\n",
    "    [[206, 23, 134], [126, 201, 215], [173, 45, 218], [207, 194, 219], [128, 194, 53]],\n",
    "    [[12, 215, 185], [196, 231, 53], [73, 167, 43], [120, 32, 94], [185, 194, 63]],\n",
    "    [[126, 218, 242], [63, 128, 84], [95, 128, 216], [107, 210, 79], [194, 96, 196]]\n",
    "], dtype=np.int32)"
   ]
  },
  {
   "cell_type": "code",
   "execution_count": 17,
   "id": "28c73062",
   "metadata": {},
   "outputs": [
    {
     "data": {
      "text/plain": [
       "array([[[139., 244., 201.],\n",
       "        [217., 234., 216.]],\n",
       "\n",
       "       [[206., 231., 215.],\n",
       "        [207., 194., 219.]]])"
      ]
     },
     "execution_count": 17,
     "metadata": {},
     "output_type": "execute_result"
    }
   ],
   "source": [
    "# Compute first layer MaxPooling2D on my own\n",
    "resulting_image = np.zeros((2, 2, 3))  # 2x2x3 matrix for results initialized with zeros\n",
    "\n",
    "for row in range(0, 4, 2):  # Iterate over rows (ignore last row)\n",
    "    for col in range(0, 4, 2):  # Iterate over columns (ignore last column)\n",
    "        for rgb in range(3):  # Iterate over all RGB values\n",
    "            interesting_elements = image[row:row + 2, col:col + 2, rgb]  # Find relevent RGB values\n",
    "            interesting_elements = interesting_elements.ravel()  # Ravel intersting elements for easier computation of maximum\n",
    "            highest_rgb = max(interesting_elements)\n",
    "            resulting_image[row // 2][col // 2][rgb] = highest_rgb\n",
    "\n",
    "resulting_image"
   ]
  },
  {
   "cell_type": "code",
   "execution_count": 18,
   "id": "03a838ce",
   "metadata": {},
   "outputs": [
    {
     "data": {
      "text/plain": [
       "<tf.Tensor: shape=(2, 2, 3), dtype=float32, numpy=\n",
       "array([[[139., 244., 201.],\n",
       "        [217., 234., 216.]],\n",
       "\n",
       "       [[206., 231., 215.],\n",
       "        [207., 194., 219.]]], dtype=float32)>"
      ]
     },
     "execution_count": 18,
     "metadata": {},
     "output_type": "execute_result"
    }
   ],
   "source": [
    "# Compute first layer with predefined layer MaxPooling2D\n",
    "converted_image = np.array(image, dtype=np.float32)  # Convert for using in MaxPooling2D layer\n",
    "images_to_compute = np.array([converted_image])\n",
    "max_pool = MaxPooling2D(pool_size=pool_s)  # Initialize the weights with ones like above\n",
    "max_pool(images_to_compute)[0]  # Tensorflow expects multiple images for AI training etc."
   ]
  },
  {
   "cell_type": "code",
   "execution_count": 19,
   "id": "03e429a4",
   "metadata": {},
   "outputs": [],
   "source": [
    "class OwnMaxPooling2D:\n",
    "\n",
    "    def __init__(self, pool_s: Tuple[int, int], strides: int = pool_s):\n",
    "        self._pool_s = pool_s  # Size of window to compute max pooling 2D of\n",
    "        self._strides = strides  # Number of steps in each direction (x & y)f or moving the window\n",
    "\n",
    "    def __call__(self, images: np.ndarray) -> np.ndarray:\n",
    "        # Convert images into correct format\n",
    "        converted_images = np.array(images, dtype=np.float32)\n",
    "\n",
    "        # Define weights and resulting array\n",
    "        n_images = converted_images.shape[0]\n",
    "        n_rows = converted_images.shape[1] // self._strides[0]  # Dimension of resulting image (x-axis)\n",
    "        n_cols = converted_images.shape[2] // self._strides[1]  # Dimension of resulting image (y-axis)\n",
    "        n_rgbs = converted_images.shape[3]  # Number of RGB values, remains in result\n",
    "        resulting_images = np.zeros((n_images, n_rows, n_cols, n_rgbs))  # nxmx1 matrix for results initialized with zeros\n",
    "\n",
    "        # Compute output of max pooling\n",
    "        for img in range(n_images):  # Iterate over all images\n",
    "            for row in range(0, converted_images.shape[1] - 1, self._strides[0]):  # Iterate over rows (ignore last row)\n",
    "                for col in range(0, converted_images.shape[2] - 1, self._strides[1]):  # Iterate over columns (ignore last column)\n",
    "                    for rgb in range(n_rgbs):  # Iterate over all RGB values\n",
    "                        interesting_elements = converted_images[img, row:row + self._strides[0], col:col + self._strides[1], rgb]  # Find relevent RGB values\n",
    "                        interesting_elements = interesting_elements.ravel()  # Ravel intersting elements for easier computation of maximum\n",
    "                        highest_rgb = max(interesting_elements)\n",
    "                        resulting_images[img][row // self._strides[0]][col // self._strides[1]][rgb] = highest_rgb\n",
    "\n",
    "        return resulting_images"
   ]
  },
  {
   "cell_type": "code",
   "execution_count": 20,
   "id": "9701a01a",
   "metadata": {},
   "outputs": [
    {
     "name": "stdout",
     "output_type": "stream",
     "text": [
      "[[[[139. 244. 201.]\n",
      "   [217. 234. 216.]]\n",
      "\n",
      "  [[206. 231. 215.]\n",
      "   [207. 194. 219.]]]]\n",
      "[[[[217. 244. 219.]]]]\n"
     ]
    }
   ],
   "source": [
    "own_max_pool = OwnMaxPooling2D(pool_s=pool_s)  # Use default strides = pool_s\n",
    "print(own_max_pool(images=np.array([image])))  # Same result as above\n",
    "print(own_max_pool(own_max_pool(images=np.array([image]))))  # Concatenation still possible"
   ]
  },
  {
   "cell_type": "code",
   "execution_count": 21,
   "id": "586acedc",
   "metadata": {},
   "outputs": [
    {
     "name": "stdout",
     "output_type": "stream",
     "text": [
      "tf.Tensor(\n",
      "[[[[139. 244. 201.]\n",
      "   [217. 234. 216.]]\n",
      "\n",
      "  [[206. 231. 215.]\n",
      "   [207. 194. 219.]]]], shape=(1, 2, 2, 3), dtype=float32)\n",
      "tf.Tensor([[[[217. 244. 219.]]]], shape=(1, 1, 1, 3), dtype=float32)\n"
     ]
    }
   ],
   "source": [
    "# Compute first layer with predefined layer MaxPooling2D\n",
    "print(max_pool(images_to_compute))  # Same result as above\n",
    "print(max_pool(max_pool(images_to_compute)))  # Concatenation still possible"
   ]
  },
  {
   "cell_type": "markdown",
   "id": "6b5ab2e1",
   "metadata": {},
   "source": [
    "# First part of the model"
   ]
  },
  {
   "cell_type": "code",
   "execution_count": 22,
   "id": "ceb811af",
   "metadata": {},
   "outputs": [
    {
     "name": "stdout",
     "output_type": "stream",
     "text": [
      "Model: \"sequential\"\n",
      "_________________________________________________________________\n",
      " Layer (type)                Output Shape              Param #   \n",
      "=================================================================\n",
      " conv2d_5 (Conv2D)           (None, 216, 176, 1)       27        \n",
      "                                                                 \n",
      " max_pooling2d_1 (MaxPooling  (None, 108, 88, 1)       0         \n",
      " 2D)                                                             \n",
      "                                                                 \n",
      " conv2d_6 (Conv2D)           (None, 106, 86, 1)        9         \n",
      "                                                                 \n",
      " max_pooling2d_2 (MaxPooling  (None, 53, 43, 1)        0         \n",
      " 2D)                                                             \n",
      "                                                                 \n",
      " conv2d_7 (Conv2D)           (None, 51, 41, 1)         9         \n",
      "                                                                 \n",
      " max_pooling2d_3 (MaxPooling  (None, 25, 20, 1)        0         \n",
      " 2D)                                                             \n",
      "                                                                 \n",
      " conv2d_8 (Conv2D)           (None, 23, 18, 1)         9         \n",
      "                                                                 \n",
      " max_pooling2d_4 (MaxPooling  (None, 11, 9, 1)         0         \n",
      " 2D)                                                             \n",
      "                                                                 \n",
      " conv2d_9 (Conv2D)           (None, 9, 7, 1)           9         \n",
      "                                                                 \n",
      " max_pooling2d_5 (MaxPooling  (None, 4, 3, 1)          0         \n",
      " 2D)                                                             \n",
      "                                                                 \n",
      "=================================================================\n",
      "Total params: 63\n",
      "Trainable params: 63\n",
      "Non-trainable params: 0\n",
      "_________________________________________________________________\n"
     ]
    }
   ],
   "source": [
    "# Predefined model\n",
    "pre_defined_model = Sequential([\n",
    "    Conv2D(1, kernel_s, input_shape=(218, 178, 3), kernel_initializer=\"ones\", use_bias=False, activation='relu'),\n",
    "    MaxPooling2D(pool_s),\n",
    "\n",
    "    Conv2D(1, kernel_s, kernel_initializer=\"ones\", use_bias=False, activation='relu'),\n",
    "    MaxPooling2D(pool_s),\n",
    "\n",
    "    Conv2D(1, kernel_s, kernel_initializer=\"ones\", use_bias=False, activation='relu'),\n",
    "    MaxPooling2D(pool_s),\n",
    "\n",
    "    Conv2D(1, kernel_s, kernel_initializer=\"ones\", use_bias=False, activation='relu'),\n",
    "    MaxPooling2D(pool_s),\n",
    "\n",
    "    Conv2D(1, kernel_s, kernel_initializer=\"ones\", use_bias=False, activation='relu'),\n",
    "    MaxPooling2D(pool_s),\n",
    "])\n",
    "\n",
    "pre_defined_model.summary()"
   ]
  },
  {
   "cell_type": "code",
   "execution_count": 23,
   "id": "32a46acc",
   "metadata": {},
   "outputs": [
    {
     "data": {
      "text/plain": [
       "<tf.Tensor: shape=(1, 4, 3, 1), dtype=float32, numpy=\n",
       "array([[[[39135032.],\n",
       "         [31686098.],\n",
       "         [32060224.]],\n",
       "\n",
       "        [[33711808.],\n",
       "         [30734988.],\n",
       "         [29036562.]],\n",
       "\n",
       "        [[34668032.],\n",
       "         [30075784.],\n",
       "         [28744688.]],\n",
       "\n",
       "        [[36904536.],\n",
       "         [29787772.],\n",
       "         [28180816.]]]], dtype=float32)>"
      ]
     },
     "execution_count": 23,
     "metadata": {},
     "output_type": "execute_result"
    }
   ],
   "source": [
    "converted_image = np.array(real_image, dtype=np.float32)  # Convert for using in MaxPooling2D layer\n",
    "images_to_compute = np.array([converted_image])\n",
    "preds_predefined_model = pre_defined_model.predict_step(images_to_compute)\n",
    "preds_predefined_model"
   ]
  },
  {
   "cell_type": "code",
   "execution_count": 24,
   "id": "c8300301",
   "metadata": {},
   "outputs": [],
   "source": [
    "class OwnSequential:\n",
    "\n",
    "    def __init__(self, layers: List[Any]):\n",
    "        self._layers = layers\n",
    "\n",
    "    def predict(self, images: np.ndarray) -> np.ndarray:\n",
    "        res = np.copy(images)\n",
    "\n",
    "        for layer in self._layers:\n",
    "            res = layer(res)\n",
    "\n",
    "        return res"
   ]
  },
  {
   "cell_type": "code",
   "execution_count": 25,
   "id": "ed9ea97c",
   "metadata": {},
   "outputs": [
    {
     "data": {
      "text/plain": [
       "array([[[[39135032.],\n",
       "         [31686100.],\n",
       "         [32060220.]],\n",
       "\n",
       "        [[33711808.],\n",
       "         [30734986.],\n",
       "         [29036564.]],\n",
       "\n",
       "        [[34668036.],\n",
       "         [30075784.],\n",
       "         [28744690.]],\n",
       "\n",
       "        [[36904532.],\n",
       "         [29787772.],\n",
       "         [28180812.]]]])"
      ]
     },
     "execution_count": 25,
     "metadata": {},
     "output_type": "execute_result"
    }
   ],
   "source": [
    "own_model = OwnSequential([\n",
    "    OwnConv2D(kernel_s=kernel_s),\n",
    "    OwnMaxPooling2D(pool_s),\n",
    "\n",
    "    OwnConv2D(kernel_s=kernel_s, activation='relu'),\n",
    "    OwnMaxPooling2D(pool_s),\n",
    "\n",
    "    OwnConv2D(kernel_s=kernel_s, activation='relu'),\n",
    "    OwnMaxPooling2D(pool_s),\n",
    "\n",
    "    OwnConv2D(kernel_s=kernel_s, activation='relu'),\n",
    "    OwnMaxPooling2D(pool_s),\n",
    "\n",
    "    OwnConv2D(kernel_s=kernel_s, activation='relu'),\n",
    "    OwnMaxPooling2D(pool_s),\n",
    "])\n",
    "\n",
    "preds_own_model = own_model.predict(images_to_compute)\n",
    "preds_own_model"
   ]
  },
  {
   "cell_type": "code",
   "execution_count": 26,
   "id": "ac4f8987",
   "metadata": {},
   "outputs": [
    {
     "name": "stdout",
     "output_type": "stream",
     "text": [
      "True\n"
     ]
    }
   ],
   "source": [
    "print(np.allclose(preds_predefined_model, preds_own_model))\n",
    "assert np.allclose(preds_predefined_model, preds_own_model)"
   ]
  },
  {
   "cell_type": "markdown",
   "id": "35f33b85",
   "metadata": {},
   "source": [
    "# Multiple units"
   ]
  },
  {
   "cell_type": "code",
   "execution_count": 27,
   "id": "4bb710d1",
   "metadata": {},
   "outputs": [],
   "source": [
    "converted_image = np.array(image, dtype=np.float32)  # Convert for using in Conv2D layer\n",
    "images_to_compute = np.array([converted_image])\n",
    "\n",
    "conv = Conv2D(2, kernel_s, input_shape=input_shape, kernel_initializer=\"ones\", use_bias=False, activation=\"relu\")  # Remove later ReLu\n",
    "conv2 = Conv2D(2, kernel_s, use_bias=False, kernel_initializer=\"ones\", activation=\"relu\")  # Remove later ReLu\n",
    "conv3 = Conv2D(1, kernel_s, use_bias=False, kernel_initializer=\"ones\", activation=\"relu\")  # Remove later ReLu\n",
    "conv4 = Conv2D(4, kernel_s, use_bias=False, kernel_initializer=\"ones\", activation=\"relu\")  # Remove later ReLu"
   ]
  },
  {
   "cell_type": "code",
   "execution_count": 28,
   "id": "8611207b",
   "metadata": {},
   "outputs": [
    {
     "data": {
      "text/plain": [
       "<tf.Tensor: shape=(1, 3, 3, 2), dtype=float32, numpy=\n",
       "array([[[[3717., 3717.],\n",
       "         [3920., 3920.],\n",
       "         [3523., 3523.]],\n",
       "\n",
       "        [[3859., 3859.],\n",
       "         [3935., 3935.],\n",
       "         [3487., 3487.]],\n",
       "\n",
       "        [[3816., 3816.],\n",
       "         [3717., 3717.],\n",
       "         [3723., 3723.]]]], dtype=float32)>"
      ]
     },
     "execution_count": 28,
     "metadata": {},
     "output_type": "execute_result"
    }
   ],
   "source": [
    "conv(images_to_compute)"
   ]
  },
  {
   "cell_type": "code",
   "execution_count": 29,
   "id": "0af18e2d",
   "metadata": {},
   "outputs": [
    {
     "name": "stdout",
     "output_type": "stream",
     "text": [
      "tf.Tensor([[[[67408. 67408.]]]], shape=(1, 1, 1, 2), dtype=float32)\n"
     ]
    }
   ],
   "source": [
    "print(conv2(conv(images_to_compute)))"
   ]
  },
  {
   "cell_type": "code",
   "execution_count": 30,
   "id": "a1e998ee",
   "metadata": {},
   "outputs": [
    {
     "name": "stdout",
     "output_type": "stream",
     "text": [
      "tf.Tensor([[[[67408.]]]], shape=(1, 1, 1, 1), dtype=float32)\n"
     ]
    }
   ],
   "source": [
    "print(conv3(conv(images_to_compute)))"
   ]
  },
  {
   "cell_type": "code",
   "execution_count": 31,
   "id": "3d19131b",
   "metadata": {},
   "outputs": [
    {
     "name": "stdout",
     "output_type": "stream",
     "text": [
      "tf.Tensor([[[[67408. 67408. 67408. 67408.]]]], shape=(1, 1, 1, 4), dtype=float32)\n"
     ]
    }
   ],
   "source": [
    "print(conv4(conv(images_to_compute)))"
   ]
  },
  {
   "cell_type": "code",
   "execution_count": 32,
   "id": "df2a3570",
   "metadata": {},
   "outputs": [
    {
     "data": {
      "text/plain": [
       "array([[[[67394., 67394.]]]])"
      ]
     },
     "execution_count": 32,
     "metadata": {},
     "output_type": "execute_result"
    }
   ],
   "source": [
    "OwnConv2D(units=2, kernel_s=kernel_s, activation=\"relu\")(conv(images_to_compute))"
   ]
  },
  {
   "cell_type": "code",
   "execution_count": 33,
   "id": "3d35a109",
   "metadata": {},
   "outputs": [
    {
     "data": {
      "text/plain": [
       "array([[[[67394.]]]])"
      ]
     },
     "execution_count": 33,
     "metadata": {},
     "output_type": "execute_result"
    }
   ],
   "source": [
    "OwnConv2D(units=1, kernel_s=kernel_s, activation=\"relu\")(conv(images_to_compute))"
   ]
  },
  {
   "cell_type": "code",
   "execution_count": 34,
   "id": "b6783246",
   "metadata": {},
   "outputs": [
    {
     "data": {
      "text/plain": [
       "array([[[[67394., 67394., 67394., 67394.]]]])"
      ]
     },
     "execution_count": 34,
     "metadata": {},
     "output_type": "execute_result"
    }
   ],
   "source": [
    "OwnConv2D(units=4, kernel_s=kernel_s, activation=\"relu\")(conv(images_to_compute))"
   ]
  },
  {
   "cell_type": "markdown",
   "id": "7a2e932a",
   "metadata": {},
   "source": [
    "# Complete first part of the model"
   ]
  },
  {
   "cell_type": "code",
   "execution_count": 35,
   "id": "c143956c",
   "metadata": {},
   "outputs": [
    {
     "name": "stdout",
     "output_type": "stream",
     "text": [
      "Model: \"sequential_1\"\n",
      "_________________________________________________________________\n",
      " Layer (type)                Output Shape              Param #   \n",
      "=================================================================\n",
      " conv2d_14 (Conv2D)          (None, 216, 176, 32)      864       \n",
      "                                                                 \n",
      " max_pooling2d_6 (MaxPooling  (None, 108, 88, 32)      0         \n",
      " 2D)                                                             \n",
      "                                                                 \n",
      " conv2d_15 (Conv2D)          (None, 106, 86, 64)       18432     \n",
      "                                                                 \n",
      " max_pooling2d_7 (MaxPooling  (None, 53, 43, 64)       0         \n",
      " 2D)                                                             \n",
      "                                                                 \n",
      " conv2d_16 (Conv2D)          (None, 51, 41, 64)        36864     \n",
      "                                                                 \n",
      " max_pooling2d_8 (MaxPooling  (None, 25, 20, 64)       0         \n",
      " 2D)                                                             \n",
      "                                                                 \n",
      " conv2d_17 (Conv2D)          (None, 23, 18, 128)       73728     \n",
      "                                                                 \n",
      " max_pooling2d_9 (MaxPooling  (None, 11, 9, 128)       0         \n",
      " 2D)                                                             \n",
      "                                                                 \n",
      " conv2d_18 (Conv2D)          (None, 9, 7, 128)         147456    \n",
      "                                                                 \n",
      " max_pooling2d_10 (MaxPoolin  (None, 4, 3, 128)        0         \n",
      " g2D)                                                            \n",
      "                                                                 \n",
      "=================================================================\n",
      "Total params: 277,344\n",
      "Trainable params: 277,344\n",
      "Non-trainable params: 0\n",
      "_________________________________________________________________\n"
     ]
    }
   ],
   "source": [
    "# Complete predefined model\n",
    "pre_defined_model_complete = Sequential([\n",
    "    Conv2D(32, kernel_s, input_shape=(218, 178, 3), kernel_initializer=\"ones\", use_bias=False, activation='relu'),\n",
    "    MaxPooling2D(pool_s),\n",
    "\n",
    "    Conv2D(64, kernel_s, kernel_initializer=\"ones\", use_bias=False, activation='relu'),\n",
    "    MaxPooling2D(pool_s),\n",
    "\n",
    "    Conv2D(64, kernel_s, kernel_initializer=\"ones\", use_bias=False, activation='relu'),\n",
    "    MaxPooling2D(pool_s),\n",
    "\n",
    "    Conv2D(128, kernel_s, kernel_initializer=\"ones\", use_bias=False, activation='relu'),\n",
    "    MaxPooling2D(pool_s),\n",
    "\n",
    "    Conv2D(128, kernel_s, kernel_initializer=\"ones\", use_bias=False, activation='relu'),\n",
    "    MaxPooling2D(pool_s),\n",
    "])\n",
    "\n",
    "pre_defined_model_complete.summary()"
   ]
  },
  {
   "cell_type": "code",
   "execution_count": 36,
   "id": "720db033",
   "metadata": {},
   "outputs": [
    {
     "data": {
      "text/plain": [
       "<tf.Tensor: shape=(1, 4, 3, 128), dtype=float32, numpy=\n",
       "array([[[[6.5657749e+14, 6.5657749e+14, 6.5657749e+14, ...,\n",
       "          6.5657749e+14, 6.5657749e+14, 6.5657749e+14],\n",
       "         [5.3160545e+14, 5.3160545e+14, 5.3160545e+14, ...,\n",
       "          5.3160545e+14, 5.3160545e+14, 5.3160545e+14],\n",
       "         [5.3788023e+14, 5.3788023e+14, 5.3788023e+14, ...,\n",
       "          5.3788023e+14, 5.3788023e+14, 5.3788023e+14]],\n",
       "\n",
       "        [[5.6559082e+14, 5.6559082e+14, 5.6559082e+14, ...,\n",
       "          5.6559082e+14, 5.6559082e+14, 5.6559082e+14],\n",
       "         [5.1564797e+14, 5.1564797e+14, 5.1564797e+14, ...,\n",
       "          5.1564797e+14, 5.1564797e+14, 5.1564797e+14],\n",
       "         [4.8715428e+14, 4.8715428e+14, 4.8715428e+14, ...,\n",
       "          4.8715428e+14, 4.8715428e+14, 4.8715428e+14]],\n",
       "\n",
       "        [[5.8163534e+14, 5.8163534e+14, 5.8163534e+14, ...,\n",
       "          5.8163534e+14, 5.8163534e+14, 5.8163534e+14],\n",
       "         [5.0458631e+14, 5.0458631e+14, 5.0458631e+14, ...,\n",
       "          5.0458631e+14, 5.0458631e+14, 5.0458631e+14],\n",
       "         [4.8225591e+14, 4.8225591e+14, 4.8225591e+14, ...,\n",
       "          4.8225591e+14, 4.8225591e+14, 4.8225591e+14]],\n",
       "\n",
       "        [[6.1915671e+14, 6.1915671e+14, 6.1915671e+14, ...,\n",
       "          6.1915671e+14, 6.1915671e+14, 6.1915671e+14],\n",
       "         [4.9975693e+14, 4.9975693e+14, 4.9975693e+14, ...,\n",
       "          4.9975693e+14, 4.9975693e+14, 4.9975693e+14],\n",
       "         [4.7279527e+14, 4.7279527e+14, 4.7279527e+14, ...,\n",
       "          4.7279527e+14, 4.7279527e+14, 4.7279527e+14]]]], dtype=float32)>"
      ]
     },
     "execution_count": 36,
     "metadata": {},
     "output_type": "execute_result"
    }
   ],
   "source": [
    "converted_image = np.array(real_image, dtype=np.float32)  # Convert for using in MaxPooling2D layer\n",
    "images_to_compute = np.array([converted_image])\n",
    "preds_predefined_model_complete = pre_defined_model_complete.predict_step(images_to_compute)\n",
    "preds_predefined_model_complete"
   ]
  },
  {
   "cell_type": "code",
   "execution_count": 37,
   "id": "bc622fb8",
   "metadata": {},
   "outputs": [
    {
     "data": {
      "text/plain": [
       "array([[[[6.56576885e+14, 6.56576885e+14, 6.56576885e+14, ...,\n",
       "          6.56576885e+14, 6.56576885e+14, 6.56576885e+14],\n",
       "         [5.31604544e+14, 5.31604544e+14, 5.31604544e+14, ...,\n",
       "          5.31604544e+14, 5.31604544e+14, 5.31604544e+14],\n",
       "         [5.37881236e+14, 5.37881236e+14, 5.37881236e+14, ...,\n",
       "          5.37881236e+14, 5.37881236e+14, 5.37881236e+14]],\n",
       "\n",
       "        [[5.65590285e+14, 5.65590285e+14, 5.65590285e+14, ...,\n",
       "          5.65590285e+14, 5.65590285e+14, 5.65590285e+14],\n",
       "         [5.15647499e+14, 5.15647499e+14, 5.15647499e+14, ...,\n",
       "          5.15647499e+14, 5.15647499e+14, 5.15647499e+14],\n",
       "         [4.87152706e+14, 4.87152706e+14, 4.87152706e+14, ...,\n",
       "          4.87152706e+14, 4.87152706e+14, 4.87152706e+14]],\n",
       "\n",
       "        [[5.81633128e+14, 5.81633128e+14, 5.81633128e+14, ...,\n",
       "          5.81633128e+14, 5.81633128e+14, 5.81633128e+14],\n",
       "         [5.04587925e+14, 5.04587925e+14, 5.04587925e+14, ...,\n",
       "          5.04587925e+14, 5.04587925e+14, 5.04587925e+14],\n",
       "         [4.82255873e+14, 4.82255873e+14, 4.82255873e+14, ...,\n",
       "          4.82255873e+14, 4.82255873e+14, 4.82255873e+14]],\n",
       "\n",
       "        [[6.19155305e+14, 6.19155305e+14, 6.19155305e+14, ...,\n",
       "          6.19155305e+14, 6.19155305e+14, 6.19155305e+14],\n",
       "         [4.99755885e+14, 4.99755885e+14, 4.99755885e+14, ...,\n",
       "          4.99755885e+14, 4.99755885e+14, 4.99755885e+14],\n",
       "         [4.72795570e+14, 4.72795570e+14, 4.72795570e+14, ...,\n",
       "          4.72795570e+14, 4.72795570e+14, 4.72795570e+14]]]])"
      ]
     },
     "execution_count": 37,
     "metadata": {},
     "output_type": "execute_result"
    }
   ],
   "source": [
    "own_model_complete = OwnSequential([\n",
    "    OwnConv2D(units=32, kernel_s=kernel_s, activation='relu'),\n",
    "    OwnMaxPooling2D(pool_s),\n",
    "\n",
    "    OwnConv2D(units=64, kernel_s=kernel_s, activation='relu'),\n",
    "    OwnMaxPooling2D(pool_s),\n",
    "\n",
    "    OwnConv2D(units=64, kernel_s=kernel_s, activation='relu'),\n",
    "    OwnMaxPooling2D(pool_s),\n",
    "\n",
    "    OwnConv2D(units=128, kernel_s=kernel_s, activation='relu'),\n",
    "    OwnMaxPooling2D(pool_s),\n",
    "\n",
    "    OwnConv2D(units=128, kernel_s=kernel_s, activation='relu'),\n",
    "    OwnMaxPooling2D(pool_s),\n",
    "])\n",
    "\n",
    "preds_own_model_complete = own_model_complete.predict(images_to_compute)\n",
    "preds_own_model_complete"
   ]
  },
  {
   "cell_type": "code",
   "execution_count": 38,
   "id": "2c83cf62",
   "metadata": {},
   "outputs": [
    {
     "name": "stdout",
     "output_type": "stream",
     "text": [
      "True\n",
      "True\n",
      "True\n"
     ]
    }
   ],
   "source": [
    "print(np.allclose(preds_predefined_model_complete, preds_own_model_complete, rtol=1e-5))  # Rounding errors\n",
    "print(np.allclose(preds_predefined_model_complete, preds_own_model_complete, rtol=1e-4))  # Rounding errors\n",
    "print(np.allclose(preds_predefined_model_complete, preds_own_model_complete, rtol=1e-3))  # Rounding errors\n",
    "\n",
    "assert np.allclose(preds_predefined_model_complete, preds_own_model_complete, rtol=1e-3)"
   ]
  },
  {
   "cell_type": "markdown",
   "id": "4335da62",
   "metadata": {},
   "source": [
    "# Whole model"
   ]
  },
  {
   "cell_type": "code",
   "execution_count": 39,
   "id": "0b70c679",
   "metadata": {},
   "outputs": [],
   "source": [
    "class OwnFlatten:\n",
    "\n",
    "    def __init__(self):\n",
    "        pass\n",
    "\n",
    "    def __call__(self, images: np.ndarray) -> np.ndarray:\n",
    "        return images.ravel()\n",
    "\n",
    "class OwnDense:\n",
    "\n",
    "    def __init__(self, units: int = 1, activation: str = None):\n",
    "        self._units = units\n",
    "        self._activation = activation\n",
    "\n",
    "    def __call__(self, x: np.ndarray) -> np.ndarray:\n",
    "        # Define weights and resulting array\n",
    "        weights = np.ones(x.shape[0])  # Weights must have same dimensions as x\n",
    "        biases = np.zeros(self._units)\n",
    "        scores = np.zeros(self._units)  # Save results in scores\n",
    "\n",
    "        # Compute output of convolution\n",
    "        for unit in range(self._units):  # Compute output of convolution for each unit (remove later)\n",
    "            score = np.sum(weights * x) + biases[unit]\n",
    "\n",
    "            # Use activation function, if requested\n",
    "            if self._activation is not None:\n",
    "                if self._activation.lower() == \"relu\":\n",
    "                    score = max(0, score)\n",
    "                elif self._activation.lower() == \"sigmoid\":\n",
    "                    score = sigmoid(score)\n",
    "\n",
    "            scores[unit] = score\n",
    "\n",
    "        return scores"
   ]
  },
  {
   "cell_type": "code",
   "execution_count": 40,
   "id": "a20f8187",
   "metadata": {},
   "outputs": [
    {
     "name": "stdout",
     "output_type": "stream",
     "text": [
      "1/1 [==============================] - 0s 66ms/step\n"
     ]
    },
    {
     "data": {
      "text/plain": [
       "array([[38764544., 38764544.]], dtype=float32)"
      ]
     },
     "execution_count": 40,
     "metadata": {},
     "output_type": "execute_result"
    }
   ],
   "source": [
    "# Test predefined Dense layer\n",
    "dense_model = Sequential([\n",
    "    Flatten(),\n",
    "    Dense(2, activation='relu', kernel_initializer='ones', use_bias=True, bias_initializer='zeros'),\n",
    "    Dense(2, activation='relu', kernel_initializer='ones', use_bias=True, bias_initializer='zeros'),\n",
    "])\n",
    "\n",
    "preds_dense_model_whole = dense_model.predict(images_to_compute)\n",
    "preds_dense_model_whole"
   ]
  },
  {
   "cell_type": "code",
   "execution_count": 41,
   "id": "bcf80d61",
   "metadata": {},
   "outputs": [
    {
     "data": {
      "text/plain": [
       "array([38756696., 38756696.])"
      ]
     },
     "execution_count": 41,
     "metadata": {},
     "output_type": "execute_result"
    }
   ],
   "source": [
    "# Test own implemented Dense layer OwnDense\n",
    "own_dense_model = OwnSequential([\n",
    "    OwnFlatten(),\n",
    "    OwnDense(units=2, activation=\"relu\"),\n",
    "    OwnDense(units=2, activation=\"relu\"),\n",
    "])\n",
    "\n",
    "preds_own_dense_model = own_dense_model.predict(images_to_compute)\n",
    "preds_own_dense_model"
   ]
  },
  {
   "cell_type": "code",
   "execution_count": 42,
   "id": "843e702e-4250-44fe-959d-0732a69cdbf5",
   "metadata": {
    "tags": []
   },
   "outputs": [
    {
     "name": "stdout",
     "output_type": "stream",
     "text": [
      "Model: \"sequential_3\"\n",
      "_________________________________________________________________\n",
      " Layer (type)                Output Shape              Param #   \n",
      "=================================================================\n",
      " conv2d_19 (Conv2D)          (None, 216, 176, 32)      896       \n",
      "                                                                 \n",
      " max_pooling2d_11 (MaxPoolin  (None, 108, 88, 32)      0         \n",
      " g2D)                                                            \n",
      "                                                                 \n",
      " conv2d_20 (Conv2D)          (None, 106, 86, 64)       18496     \n",
      "                                                                 \n",
      " max_pooling2d_12 (MaxPoolin  (None, 53, 43, 64)       0         \n",
      " g2D)                                                            \n",
      "                                                                 \n",
      " conv2d_21 (Conv2D)          (None, 51, 41, 64)        36928     \n",
      "                                                                 \n",
      " max_pooling2d_13 (MaxPoolin  (None, 25, 20, 64)       0         \n",
      " g2D)                                                            \n",
      "                                                                 \n",
      " conv2d_22 (Conv2D)          (None, 23, 18, 128)       73856     \n",
      "                                                                 \n",
      " max_pooling2d_14 (MaxPoolin  (None, 11, 9, 128)       0         \n",
      " g2D)                                                            \n",
      "                                                                 \n",
      " conv2d_23 (Conv2D)          (None, 9, 7, 128)         147584    \n",
      "                                                                 \n",
      " max_pooling2d_15 (MaxPoolin  (None, 4, 3, 128)        0         \n",
      " g2D)                                                            \n",
      "                                                                 \n",
      " flatten_1 (Flatten)         (None, 1536)              0         \n",
      "                                                                 \n",
      " dense_2 (Dense)             (None, 1024)              1573888   \n",
      "                                                                 \n",
      " dense_3 (Dense)             (None, 1)                 1025      \n",
      "                                                                 \n",
      "=================================================================\n",
      "Total params: 1,852,673\n",
      "Trainable params: 1,852,673\n",
      "Non-trainable params: 0\n",
      "_________________________________________________________________\n"
     ]
    }
   ],
   "source": [
    "# Test whole model\n",
    "pre_defined_model_whole = Sequential([\n",
    "    Conv2D(32, kernel_s, activation='relu', input_shape=(218, 178, 3), kernel_regularizer=regularizers.l2(0.001), padding=\"VALID\"),\n",
    "    MaxPooling2D(pool_s),\n",
    "\n",
    "    Conv2D(64, kernel_s, activation='relu'),\n",
    "    MaxPooling2D(pool_s),\n",
    "\n",
    "    Conv2D(64, kernel_s, activation='relu'),\n",
    "    MaxPooling2D(pool_s),\n",
    "\n",
    "    Conv2D(128, kernel_s, activation='relu'),\n",
    "    MaxPooling2D(pool_s),\n",
    "\n",
    "    Conv2D(128, kernel_s, activation='relu'),\n",
    "    MaxPooling2D(pool_s),\n",
    "\n",
    "    # Last layer decise -> preparation for this = some layers before\n",
    "    Flatten(),\n",
    "    Dense(1024, activation='relu', kernel_initializer='ones', use_bias=True, bias_initializer='zeros'),\n",
    "#     Dropout(0.5),\n",
    "    Dense(1, activation='sigmoid', kernel_initializer='ones', use_bias=True, bias_initializer='zeros')\n",
    "])\n",
    "\n",
    "pre_defined_model_whole.summary()"
   ]
  },
  {
   "cell_type": "code",
   "execution_count": 43,
   "id": "c5ba9ebe-a382-49b2-8370-164016818553",
   "metadata": {},
   "outputs": [
    {
     "name": "stdout",
     "output_type": "stream",
     "text": [
      "1/1 [==============================] - 0s 390ms/step\n"
     ]
    },
    {
     "data": {
      "text/plain": [
       "array([[1.]], dtype=float32)"
      ]
     },
     "execution_count": 43,
     "metadata": {},
     "output_type": "execute_result"
    }
   ],
   "source": [
    "preds_whole_model_whole = pre_defined_model_whole.predict(real_images)\n",
    "preds_whole_model_whole"
   ]
  },
  {
   "cell_type": "code",
   "execution_count": 44,
   "id": "88dac774-a3bd-4575-ab81-50b757928a4d",
   "metadata": {},
   "outputs": [
    {
     "data": {
      "text/plain": [
       "array([1.])"
      ]
     },
     "execution_count": 44,
     "metadata": {},
     "output_type": "execute_result"
    }
   ],
   "source": [
    "# Test own implemented Dense layer OwnDense\n",
    "own_model_whole = OwnSequential([\n",
    "    OwnConv2D(units=32, kernel_s=kernel_s, activation='relu'),\n",
    "    OwnMaxPooling2D(pool_s),\n",
    "\n",
    "    OwnConv2D(units=64, kernel_s=kernel_s, activation='relu'),\n",
    "    OwnMaxPooling2D(pool_s),\n",
    "\n",
    "    OwnConv2D(units=64, kernel_s=kernel_s, activation='relu'),\n",
    "    OwnMaxPooling2D(pool_s),\n",
    "\n",
    "    OwnConv2D(units=128, kernel_s=kernel_s, activation='relu'),\n",
    "    OwnMaxPooling2D(pool_s),\n",
    "\n",
    "    OwnConv2D(units=128, kernel_s=kernel_s, activation='relu'),\n",
    "    OwnMaxPooling2D(pool_s),\n",
    "\n",
    "    OwnFlatten(),\n",
    "    OwnDense(units=1024, activation=\"relu\"),\n",
    "    OwnDense(units=1, activation=\"sigmoid\"),\n",
    "\n",
    "])\n",
    "\n",
    "preds_own_model_whole = own_model_whole.predict(real_images)\n",
    "preds_own_model_whole"
   ]
  }
 ],
 "metadata": {
  "kernelspec": {
   "display_name": "Python 3 (ipykernel)",
   "language": "python",
   "name": "python3"
  },
  "language_info": {
   "codemirror_mode": {
    "name": "ipython",
    "version": 3
   },
   "file_extension": ".py",
   "mimetype": "text/x-python",
   "name": "python",
   "nbconvert_exporter": "python",
   "pygments_lexer": "ipython3",
   "version": "3.7.12"
  }
 },
 "nbformat": 4,
 "nbformat_minor": 5
}
