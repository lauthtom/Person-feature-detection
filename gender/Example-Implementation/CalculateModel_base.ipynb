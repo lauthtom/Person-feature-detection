{
 "cells": [
  {
   "cell_type": "markdown",
   "id": "1c05cc43-ab2f-4578-a061-685b46c22749",
   "metadata": {},
   "source": [
    "# Define Imports"
   ]
  },
  {
   "cell_type": "code",
   "execution_count": null,
   "id": "12498a1e-4c09-418a-b530-b87a47b0c269",
   "metadata": {
    "tags": []
   },
   "outputs": [],
   "source": [
    "import cv2\n",
    "import numpy as np\n",
    "import matplotlib.pyplot as plt\n",
    "import tensorflow as tf\n",
    "\n",
    "from matplotlib.image import imread\n",
    "from tensorflow.keras import regularizers, initializers, Sequential\n",
    "from tensorflow.keras.layers import Conv2D, Dropout, MaxPooling2D, SpatialDropout2D, GlobalMaxPooling2D, AveragePooling2D, Flatten, Dense, GlobalAveragePooling2D, BatchNormalization\n",
    "from tensorflow.keras.optimizers import SGD, Adam\n",
    "from tensorflow.keras.callbacks import EarlyStopping, ReduceLROnPlateau\n",
    "from typing import Any, Dict, List, Tuple"
   ]
  },
  {
   "cell_type": "markdown",
   "id": "580e1a12-e220-4a7e-bb21-0a62c93c4000",
   "metadata": {},
   "source": [
    "# Define Variables"
   ]
  },
  {
   "cell_type": "code",
   "execution_count": null,
   "id": "6e88ecc6-4283-4cb9-8706-f79a16ddc35d",
   "metadata": {
    "tags": []
   },
   "outputs": [],
   "source": [
    "kernel_s = (3, 3)  # Size of weights of a convolutional layer\n",
    "pool_s = (2, 2)  # Size of window to compute max pooling 2D of\n",
    "input_shape=(5, 5, 3)"
   ]
  },
  {
   "cell_type": "code",
   "execution_count": null,
   "id": "b335b50d-abc8-4ee4-95e0-bdaccbeea50a",
   "metadata": {
    "tags": []
   },
   "outputs": [],
   "source": [
    "image = np.array([\n",
    "    [[139, 142, 65], [32, 124, 201], [12, 234, 84], [23, 68, 216], [174, 12, 184]],\n",
    "    [[74, 231, 129], [64, 244, 184], [217, 147, 53], [ 201, 23, 195], [84, 127, 38]],\n",
    "    [[206, 23, 134], [126, 201, 215], [173, 45, 218], [207, 194, 219], [128, 194, 53]],\n",
    "    [[12, 215, 185], [196, 231, 53], [73, 167, 43], [120, 32, 94], [185, 194, 63]],\n",
    "    [[126, 218, 242], [63, 128, 84], [95, 128, 216], [107, 210, 79], [194, 96, 196]]\n",
    "], dtype=np.int32)"
   ]
  },
  {
   "cell_type": "code",
   "execution_count": null,
   "id": "edd06c34-adf1-4c42-8d6d-4110b141b34c",
   "metadata": {
    "scrolled": false,
    "tags": []
   },
   "outputs": [],
   "source": [
    "plt.imshow(image, interpolation='nearest')\n",
    "plt.show()"
   ]
  },
  {
   "cell_type": "code",
   "execution_count": null,
   "id": "571c65b2",
   "metadata": {},
   "outputs": [],
   "source": [
    "def sigmoid(x: np.float32):\n",
    "    return 1 / (1 + np.exp(-x))"
   ]
  },
  {
   "cell_type": "markdown",
   "id": "ae51ac22-56bf-4a7f-98d8-2db20206a64f",
   "metadata": {},
   "source": [
    "# Conv2D Layer"
   ]
  },
  {
   "cell_type": "code",
   "execution_count": null,
   "id": "9247286f",
   "metadata": {},
   "outputs": [],
   "source": [
    "# Compute first layer Conv2D on my own\n",
    "weights = np.ones((*kernel_s, 3))  # 3x3x3 matrix initialized with ones\n",
    "resulting_image = np.zeros((3, 3, 1))  # 3x3x1 matrix for results initialized with zeros\n",
    "\n",
    "for row in range(3):  # Iterate over rows\n",
    "    for col in range(3):  # Iterate over columns\n",
    "        element_wise_multiplication = image[row:row + 3, col:col + 3] * weights  # Elementwise multiplication\n",
    "        raveled_elements = element_wise_multiplication.ravel()  # Ravel elements for computing sum of them\n",
    "        resulting_image[row][col][0] = sum(raveled_elements)\n",
    "\n",
    "resulting_image"
   ]
  },
  {
   "cell_type": "code",
   "execution_count": null,
   "id": "39154c91-8012-4d3f-b12f-25b3a927e883",
   "metadata": {
    "scrolled": false,
    "tags": []
   },
   "outputs": [],
   "source": [
    "# Compute first layer with predefined layer Conv2D\n",
    "converted_image = np.array(image, dtype=np.float32)  # Convert for using in Conv2D layer\n",
    "images_to_compute = np.array([converted_image])\n",
    "conv = Conv2D(1, kernel_s, input_shape=input_shape, kernel_initializer=\"ones\", use_bias=False)  # Initialize the weights with ones like above\n",
    "conv(images_to_compute)[0]  # Tensorflow expects multiple images for AI training etc."
   ]
  },
  {
   "cell_type": "code",
   "execution_count": null,
   "id": "408e5a52",
   "metadata": {},
   "outputs": [],
   "source": [
    "class OwnConv2D:\n",
    "\n",
    "    def __init__(self, kernel_s: Tuple[int, int] = (3, 3)):\n",
    "        self._kernel_s = kernel_s\n",
    "\n",
    "    def __call__(self, images: np.ndarray, ) -> np.ndarray:\n",
    "        # Convert images into correct format\n",
    "        converted_images = np.array(images, dtype=np.float32)\n",
    "\n",
    "        # Define weights and resulting array\n",
    "        n_images = converted_images.shape[0]\n",
    "        n_rows = converted_images.shape[1] - (self._kernel_s[0] - 1)\n",
    "        n_cols = converted_images.shape[2] - (self._kernel_s[1] - 1)\n",
    "        weights = np.ones((*self._kernel_s, converted_images[0, 0, 0].shape[0]))\n",
    "        resulting_images = np.zeros((n_images, n_rows, n_cols, 1))  # nxmx1 matrix for results initialized with zeros\n",
    "\n",
    "        # Compute output of convolution\n",
    "        for img in range(n_images):  # Iterate over all images\n",
    "            for row in range(n_rows):  # Iterate over rows\n",
    "                for col in range(n_cols):  # Iterate over columns\n",
    "                    element_wise_multiplication = converted_images[img, row:row + self._kernel_s[0], col:col + self._kernel_s[1]] * weights  # Elementwise multiplication\n",
    "                    raveled_elements = element_wise_multiplication.ravel()  # Ravel elements for computing sum of them\n",
    "                    res_img_row_col = sum(raveled_elements)\n",
    "                    resulting_images[img][row][col][0] = res_img_row_col  # Replace \"unit\" with \"0\" later\n",
    "\n",
    "        return resulting_images"
   ]
  },
  {
   "cell_type": "markdown",
   "id": "6ab76eb7",
   "metadata": {},
   "source": [
    "# Concatenate Conv2D layers (own & predefined)"
   ]
  },
  {
   "cell_type": "code",
   "execution_count": null,
   "id": "7b87d793",
   "metadata": {},
   "outputs": [],
   "source": [
    "# Own model\n",
    "new_img = OwnConv2D(kernel_s=kernel_s)(np.array([image]))\n",
    "print(new_img)\n",
    "OwnConv2D(kernel_s=kernel_s)(new_img)"
   ]
  },
  {
   "cell_type": "code",
   "execution_count": null,
   "id": "f8768164",
   "metadata": {},
   "outputs": [],
   "source": [
    "# Predefined Conv2D model from tensorflow\n",
    "converted_image = np.array(image, dtype=np.float32)  # Convert for using in Conv2D layer\n",
    "images_to_compute = np.array([converted_image])\n",
    "conv = Conv2D(1, kernel_s, input_shape=input_shape, kernel_initializer=\"ones\", use_bias=False)\n",
    "conv2 = Conv2D(1, kernel_s, input_shape=(3, 3, 1), kernel_initializer=\"ones\", use_bias=False)\n",
    "print(conv(images_to_compute))\n",
    "conv2(conv(images_to_compute))  # Results in a rounding error"
   ]
  },
  {
   "cell_type": "markdown",
   "id": "32b6c295",
   "metadata": {},
   "source": [
    "# Test models on real image"
   ]
  },
  {
   "cell_type": "code",
   "execution_count": null,
   "id": "d3f79dfa",
   "metadata": {},
   "outputs": [],
   "source": [
    "real_image = imread(\"019226.jpg\")  # Read with matplotlib\n",
    "real_images = np.array([real_image])  # Like before multiple images are expected\n",
    "plt.imshow(real_image, interpolation='nearest')\n",
    "plt.show()\n",
    "real_image.shape"
   ]
  },
  {
   "cell_type": "code",
   "execution_count": null,
   "id": "84d94255",
   "metadata": {},
   "outputs": [],
   "source": [
    "# Own model\n",
    "new_img_own_model = OwnConv2D(kernel_s=kernel_s)(real_images)\n",
    "print(new_img_own_model, \"\\n\")\n",
    "new_img_own_model_2 = OwnConv2D(kernel_s=kernel_s)(new_img_own_model)\n",
    "print(new_img_own_model_2)"
   ]
  },
  {
   "cell_type": "code",
   "execution_count": null,
   "id": "6ae21d30",
   "metadata": {},
   "outputs": [],
   "source": [
    "# Predfined Conv2D model from tensorflow\n",
    "converted_images = np.array(real_images, dtype=np.float32)  # Convert for using in Conv2D layer\n",
    "conv = Conv2D(1, kernel_s, input_shape=(218, 178, 3), kernel_initializer=\"ones\", use_bias=False)\n",
    "conv2 = Conv2D(1, kernel_s, input_shape=(216, 176, 3), kernel_initializer=\"ones\", use_bias=False)\n",
    "new_img_predef_model = conv(converted_images)\n",
    "new_img_predef_model_2 = conv2(new_img_predef_model)\n",
    "print(new_img_predef_model, \"\\n\")\n",
    "print(new_img_predef_model_2)"
   ]
  },
  {
   "cell_type": "code",
   "execution_count": null,
   "id": "76c367f6",
   "metadata": {},
   "outputs": [],
   "source": [
    "# Check for equality\n",
    "print(np.allclose(new_img_own_model, new_img_predef_model))\n",
    "print(np.allclose(new_img_own_model_2, new_img_predef_model_2))\n",
    "\n",
    "assert np.allclose(new_img_own_model, new_img_predef_model)\n",
    "assert np.allclose(new_img_own_model_2, new_img_predef_model_2)"
   ]
  },
  {
   "cell_type": "markdown",
   "id": "b6059560",
   "metadata": {},
   "source": [
    "# MaxPooling2D Layer"
   ]
  },
  {
   "cell_type": "code",
   "execution_count": null,
   "id": "3246f0a9",
   "metadata": {},
   "outputs": [],
   "source": [
    "# Original image\n",
    "image = np.array([\n",
    "    [[139, 142, 65], [32, 124, 201], [12, 234, 84], [23, 68, 216], [174, 12, 184]],\n",
    "    [[74, 231, 129], [64, 244, 184], [217, 147, 53], [ 201, 23, 195], [84, 127, 38]],\n",
    "    [[206, 23, 134], [126, 201, 215], [173, 45, 218], [207, 194, 219], [128, 194, 53]],\n",
    "    [[12, 215, 185], [196, 231, 53], [73, 167, 43], [120, 32, 94], [185, 194, 63]],\n",
    "    [[126, 218, 242], [63, 128, 84], [95, 128, 216], [107, 210, 79], [194, 96, 196]]\n",
    "], dtype=np.int32)"
   ]
  },
  {
   "cell_type": "code",
   "execution_count": null,
   "id": "28c73062",
   "metadata": {},
   "outputs": [],
   "source": [
    "# Compute first layer MaxPooling2D on my own\n",
    "resulting_image = np.zeros((2, 2, 3))  # 2x2x3 matrix for results initialized with zeros\n",
    "\n",
    "for row in range(0, 4, 2):  # Iterate over rows (ignore last row)\n",
    "    for col in range(0, 4, 2):  # Iterate over columns (ignore last column)\n",
    "        for rgb in range(3):  # Iterate over all RGB values\n",
    "            interesting_elements = image[row:row + 2, col:col + 2, rgb]  # Find relevent RGB values\n",
    "            interesting_elements = interesting_elements.ravel()  # Ravel intersting elements for easier computation of maximum\n",
    "            highest_rgb = max(interesting_elements)\n",
    "            resulting_image[row // 2][col // 2][rgb] = highest_rgb\n",
    "\n",
    "resulting_image"
   ]
  },
  {
   "cell_type": "code",
   "execution_count": null,
   "id": "03a838ce",
   "metadata": {},
   "outputs": [],
   "source": [
    "# Compute first layer with predefined layer MaxPooling2D\n",
    "converted_image = np.array(image, dtype=np.float32)  # Convert for using in MaxPooling2D layer\n",
    "images_to_compute = np.array([converted_image])\n",
    "max_pool = MaxPooling2D(pool_size=pool_s)  # Initialize the weights with ones like above\n",
    "max_pool(images_to_compute)[0]  # Tensorflow expects multiple images for AI training etc."
   ]
  },
  {
   "cell_type": "code",
   "execution_count": null,
   "id": "03e429a4",
   "metadata": {},
   "outputs": [],
   "source": [
    "class OwnMaxPooling2D:\n",
    "\n",
    "    def __init__(self, pool_s: Tuple[int, int], strides: int = pool_s):\n",
    "        self._pool_s = pool_s  # Size of window to compute max pooling 2D of\n",
    "        self._strides = strides  # Number of steps in each direction (x & y)f or moving the window\n",
    "\n",
    "    def __call__(self, images: np.ndarray) -> np.ndarray:\n",
    "        # Convert images into correct format\n",
    "        converted_images = np.array(images, dtype=np.float32)\n",
    "\n",
    "        # Define weights and resulting array\n",
    "        n_images = converted_images.shape[0]\n",
    "        n_rows = converted_images.shape[1] // self._strides[0]  # Dimension of resulting image (x-axis)\n",
    "        n_cols = converted_images.shape[2] // self._strides[1]  # Dimension of resulting image (y-axis)\n",
    "        n_rgbs = converted_images.shape[3]  # Number of RGB values, remains in result\n",
    "        resulting_images = np.zeros((n_images, n_rows, n_cols, n_rgbs))  # nxmx1 matrix for results initialized with zeros\n",
    "\n",
    "        # Compute output of max pooling\n",
    "        for img in range(n_images):  # Iterate over all images\n",
    "            for row in range(0, converted_images.shape[1] - 1, self._strides[0]):  # Iterate over rows (ignore last row)\n",
    "                for col in range(0, converted_images.shape[2] - 1, self._strides[1]):  # Iterate over columns (ignore last column)\n",
    "                    for rgb in range(n_rgbs):  # Iterate over all RGB values\n",
    "                        interesting_elements = converted_images[img, row:row + self._strides[0], col:col + self._strides[1], rgb]  # Find relevent RGB values\n",
    "                        interesting_elements = interesting_elements.ravel()  # Ravel intersting elements for easier computation of maximum\n",
    "                        highest_rgb = max(interesting_elements)\n",
    "                        resulting_images[img][row // self._strides[0]][col // self._strides[1]][rgb] = highest_rgb\n",
    "\n",
    "        return resulting_images"
   ]
  },
  {
   "cell_type": "code",
   "execution_count": null,
   "id": "9701a01a",
   "metadata": {},
   "outputs": [],
   "source": [
    "own_max_pool = OwnMaxPooling2D(pool_s=pool_s)  # Use default strides = pool_s\n",
    "print(own_max_pool(images=np.array([image])))  # Same result as above\n",
    "print(own_max_pool(own_max_pool(images=np.array([image]))))  # Concatenation still possible"
   ]
  },
  {
   "cell_type": "code",
   "execution_count": null,
   "id": "586acedc",
   "metadata": {},
   "outputs": [],
   "source": [
    "# Compute first layer with predefined layer MaxPooling2D\n",
    "print(max_pool(images_to_compute))  # Same result as above\n",
    "print(max_pool(max_pool(images_to_compute)))  # Concatenation still possible"
   ]
  },
  {
   "cell_type": "markdown",
   "id": "6b5ab2e1",
   "metadata": {},
   "source": [
    "# First part of the model"
   ]
  },
  {
   "cell_type": "code",
   "execution_count": null,
   "id": "ceb811af",
   "metadata": {},
   "outputs": [],
   "source": [
    "# Predefined model\n",
    "pre_defined_model = Sequential([\n",
    "    Conv2D(1, kernel_s, input_shape=(218, 178, 3), kernel_initializer=\"ones\", use_bias=False, activation='relu'),\n",
    "    MaxPooling2D(pool_s),\n",
    "\n",
    "    Conv2D(1, kernel_s, kernel_initializer=\"ones\", use_bias=False, activation='relu'),\n",
    "    MaxPooling2D(pool_s),\n",
    "\n",
    "    Conv2D(1, kernel_s, kernel_initializer=\"ones\", use_bias=False, activation='relu'),\n",
    "    MaxPooling2D(pool_s),\n",
    "\n",
    "    Conv2D(1, kernel_s, kernel_initializer=\"ones\", use_bias=False, activation='relu'),\n",
    "    MaxPooling2D(pool_s),\n",
    "\n",
    "    Conv2D(1, kernel_s, kernel_initializer=\"ones\", use_bias=False, activation='relu'),\n",
    "    MaxPooling2D(pool_s),\n",
    "])\n",
    "\n",
    "pre_defined_model.summary()"
   ]
  },
  {
   "cell_type": "code",
   "execution_count": null,
   "id": "32a46acc",
   "metadata": {},
   "outputs": [],
   "source": [
    "converted_image = np.array(real_image, dtype=np.float32)  # Convert for using in MaxPooling2D layer\n",
    "images_to_compute = np.array([converted_image])\n",
    "preds_predefined_model = pre_defined_model.predict_step(images_to_compute)\n",
    "preds_predefined_model"
   ]
  },
  {
   "cell_type": "code",
   "execution_count": null,
   "id": "c8300301",
   "metadata": {},
   "outputs": [],
   "source": [
    "class OwnSequential:\n",
    "\n",
    "    def __init__(self, layers: List[Any]):\n",
    "        self._layers = layers\n",
    "\n",
    "    def predict(self, images: np.ndarray) -> np.ndarray:\n",
    "        res = np.copy(images)\n",
    "\n",
    "        for layer in self._layers:\n",
    "            res = layer(res)\n",
    "\n",
    "        return res"
   ]
  },
  {
   "cell_type": "code",
   "execution_count": null,
   "id": "ed9ea97c",
   "metadata": {},
   "outputs": [],
   "source": [
    "own_model = OwnSequential([\n",
    "    OwnConv2D(kernel_s=kernel_s),\n",
    "    OwnMaxPooling2D(pool_s),\n",
    "\n",
    "    OwnConv2D(kernel_s=kernel_s, activation='relu'),\n",
    "    OwnMaxPooling2D(pool_s),\n",
    "\n",
    "    OwnConv2D(kernel_s=kernel_s, activation='relu'),\n",
    "    OwnMaxPooling2D(pool_s),\n",
    "\n",
    "    OwnConv2D(kernel_s=kernel_s, activation='relu'),\n",
    "    OwnMaxPooling2D(pool_s),\n",
    "\n",
    "    OwnConv2D(kernel_s=kernel_s, activation='relu'),\n",
    "    OwnMaxPooling2D(pool_s),\n",
    "])\n",
    "\n",
    "preds_own_model = own_model.predict(images_to_compute)\n",
    "preds_own_model"
   ]
  },
  {
   "cell_type": "code",
   "execution_count": null,
   "id": "ac4f8987",
   "metadata": {},
   "outputs": [],
   "source": [
    "print(np.allclose(preds_predefined_model, preds_own_model))\n",
    "assert np.allclose(preds_predefined_model, preds_own_model)"
   ]
  },
  {
   "cell_type": "markdown",
   "id": "35f33b85",
   "metadata": {},
   "source": [
    "# Multiple units"
   ]
  },
  {
   "cell_type": "code",
   "execution_count": null,
   "id": "4bb710d1",
   "metadata": {},
   "outputs": [],
   "source": [
    "converted_image = np.array(image, dtype=np.float32)  # Convert for using in Conv2D layer\n",
    "images_to_compute = np.array([converted_image])\n",
    "\n",
    "conv = Conv2D(2, kernel_s, input_shape=input_shape, kernel_initializer=\"ones\", use_bias=False,)\n",
    "conv2 = Conv2D(2, kernel_s, use_bias=False, kernel_initializer=\"ones\")\n",
    "conv3 = Conv2D(1, kernel_s, use_bias=False, kernel_initializer=\"ones\")\n",
    "conv4 = Conv2D(4, kernel_s, use_bias=False, kernel_initializer=\"ones\")"
   ]
  },
  {
   "cell_type": "code",
   "execution_count": null,
   "id": "8611207b",
   "metadata": {},
   "outputs": [],
   "source": [
    "conv(images_to_compute)"
   ]
  },
  {
   "cell_type": "code",
   "execution_count": null,
   "id": "0af18e2d",
   "metadata": {},
   "outputs": [],
   "source": [
    "print(conv2(conv(images_to_compute)))"
   ]
  },
  {
   "cell_type": "code",
   "execution_count": null,
   "id": "a1e998ee",
   "metadata": {},
   "outputs": [],
   "source": [
    "print(conv3(conv(images_to_compute)))"
   ]
  },
  {
   "cell_type": "code",
   "execution_count": null,
   "id": "3d19131b",
   "metadata": {},
   "outputs": [],
   "source": [
    "print(conv4(conv(images_to_compute)))"
   ]
  },
  {
   "cell_type": "code",
   "execution_count": null,
   "id": "df2a3570",
   "metadata": {},
   "outputs": [],
   "source": [
    "OwnConv2D(units=2, kernel_s=kernel_s, activation=\"relu\")(conv(images_to_compute))"
   ]
  },
  {
   "cell_type": "code",
   "execution_count": null,
   "id": "3d35a109",
   "metadata": {},
   "outputs": [],
   "source": [
    "OwnConv2D(units=1, kernel_s=kernel_s, activation=\"relu\")(conv(images_to_compute))"
   ]
  },
  {
   "cell_type": "code",
   "execution_count": null,
   "id": "b6783246",
   "metadata": {},
   "outputs": [],
   "source": [
    "OwnConv2D(units=4, kernel_s=kernel_s, activation=\"relu\")(conv(images_to_compute))"
   ]
  },
  {
   "cell_type": "markdown",
   "id": "7a2e932a",
   "metadata": {},
   "source": [
    "# Complete first part of the model"
   ]
  },
  {
   "cell_type": "code",
   "execution_count": null,
   "id": "c143956c",
   "metadata": {},
   "outputs": [],
   "source": [
    "# Complete predefined model\n",
    "pre_defined_model_complete = Sequential([\n",
    "    Conv2D(32, kernel_s, input_shape=(218, 178, 3), kernel_initializer=\"ones\", use_bias=False, activation='relu'),\n",
    "    MaxPooling2D(pool_s),\n",
    "\n",
    "    Conv2D(64, kernel_s, kernel_initializer=\"ones\", use_bias=False, activation='relu'),\n",
    "    MaxPooling2D(pool_s),\n",
    "\n",
    "    Conv2D(64, kernel_s, kernel_initializer=\"ones\", use_bias=False, activation='relu'),\n",
    "    MaxPooling2D(pool_s),\n",
    "\n",
    "    Conv2D(128, kernel_s, kernel_initializer=\"ones\", use_bias=False, activation='relu'),\n",
    "    MaxPooling2D(pool_s),\n",
    "\n",
    "    Conv2D(128, kernel_s, kernel_initializer=\"ones\", use_bias=False, activation='relu'),\n",
    "    MaxPooling2D(pool_s),\n",
    "])\n",
    "\n",
    "pre_defined_model_complete.summary()"
   ]
  },
  {
   "cell_type": "code",
   "execution_count": null,
   "id": "720db033",
   "metadata": {},
   "outputs": [],
   "source": [
    "converted_image = np.array(real_image, dtype=np.float32)  # Convert for using in MaxPooling2D layer\n",
    "images_to_compute = np.array([converted_image])\n",
    "preds_predefined_model_complete = pre_defined_model_complete.predict_step(images_to_compute)\n",
    "preds_predefined_model_complete"
   ]
  },
  {
   "cell_type": "code",
   "execution_count": null,
   "id": "bc622fb8",
   "metadata": {},
   "outputs": [],
   "source": [
    "own_model_complete = OwnSequential([\n",
    "    OwnConv2D(units=32, kernel_s=kernel_s, activation='relu'),\n",
    "    OwnMaxPooling2D(pool_s),\n",
    "\n",
    "    OwnConv2D(units=64, kernel_s=kernel_s, activation='relu'),\n",
    "    OwnMaxPooling2D(pool_s),\n",
    "\n",
    "    OwnConv2D(units=64, kernel_s=kernel_s, activation='relu'),\n",
    "    OwnMaxPooling2D(pool_s),\n",
    "\n",
    "    OwnConv2D(units=128, kernel_s=kernel_s, activation='relu'),\n",
    "    OwnMaxPooling2D(pool_s),\n",
    "\n",
    "    OwnConv2D(units=128, kernel_s=kernel_s, activation='relu'),\n",
    "    OwnMaxPooling2D(pool_s),\n",
    "])\n",
    "\n",
    "preds_own_model_complete = own_model_complete.predict(images_to_compute)\n",
    "preds_own_model_complete"
   ]
  },
  {
   "cell_type": "code",
   "execution_count": null,
   "id": "2c83cf62",
   "metadata": {},
   "outputs": [],
   "source": [
    "print(np.allclose(preds_predefined_model_complete, preds_own_model_complete, rtol=1e-5))  # Rounding errors\n",
    "print(np.allclose(preds_predefined_model_complete, preds_own_model_complete, rtol=1e-4))  # Rounding errors\n",
    "print(np.allclose(preds_predefined_model_complete, preds_own_model_complete, rtol=1e-3))  # Rounding errors\n",
    "\n",
    "assert np.allclose(preds_predefined_model_complete, preds_own_model_complete, rtol=1e-3)"
   ]
  },
  {
   "cell_type": "markdown",
   "id": "4335da62",
   "metadata": {},
   "source": [
    "# Whole model"
   ]
  },
  {
   "cell_type": "code",
   "execution_count": null,
   "id": "0b70c679",
   "metadata": {},
   "outputs": [],
   "source": [
    "class OwnFlatten:\n",
    "\n",
    "    def __init__(self):\n",
    "        pass\n",
    "\n",
    "    def __call__(self, images: np.ndarray) -> np.ndarray:\n",
    "        return images.ravel()\n",
    "\n",
    "class OwnDense:\n",
    "\n",
    "    def __init__(self, units: int = 1, activation: str = None):\n",
    "        self._units = units\n",
    "        self._activation = activation\n",
    "\n",
    "    def __call__(self, x: np.ndarray) -> np.ndarray:\n",
    "        # Define weights and resulting array\n",
    "        weights = np.ones(x.shape[0])  # Weights must have same dimensions as x\n",
    "        biases = np.zeros(self._units)\n",
    "        scores = np.zeros(self._units)  # Save results in scores\n",
    "\n",
    "        # Compute output of convolution\n",
    "        for unit in range(self._units):  # Compute output of convolution for each unit (remove later)\n",
    "            score = np.sum(weights * x) + biases[unit]\n",
    "\n",
    "            # Use activation function, if requested\n",
    "            if self._activation is not None:\n",
    "                if self._activation.lower() == \"relu\":\n",
    "                    score = max(0, score)\n",
    "                elif self._activation.lower() == \"sigmoid\":\n",
    "                    score = sigmoid(score)\n",
    "\n",
    "            scores[unit] = score\n",
    "\n",
    "        return scores"
   ]
  },
  {
   "cell_type": "code",
   "execution_count": null,
   "id": "a20f8187",
   "metadata": {},
   "outputs": [],
   "source": [
    "# Test predefined Dense layer\n",
    "dense_model = Sequential([\n",
    "    Flatten(),\n",
    "    Dense(2, activation='relu', kernel_initializer='ones', use_bias=True, bias_initializer='zeros'),\n",
    "    Dense(2, activation='relu', kernel_initializer='ones', use_bias=True, bias_initializer='zeros'),\n",
    "])\n",
    "\n",
    "preds_dense_model_whole = dense_model.predict(images_to_compute)\n",
    "preds_dense_model_whole"
   ]
  },
  {
   "cell_type": "code",
   "execution_count": null,
   "id": "bcf80d61",
   "metadata": {},
   "outputs": [],
   "source": [
    "# Test own implemented Dense layer OwnDense\n",
    "own_dense_model = OwnSequential([\n",
    "    OwnFlatten(),\n",
    "    OwnDense(units=2, activation=\"relu\"),\n",
    "    OwnDense(units=2, activation=\"relu\"),\n",
    "])\n",
    "\n",
    "preds_own_dense_model = own_dense_model.predict(images_to_compute)\n",
    "preds_own_dense_model"
   ]
  },
  {
   "cell_type": "code",
   "execution_count": null,
   "id": "843e702e-4250-44fe-959d-0732a69cdbf5",
   "metadata": {
    "tags": []
   },
   "outputs": [],
   "source": [
    "# Test whole model\n",
    "pre_defined_model_whole = Sequential([\n",
    "    Conv2D(32, kernel_s, activation='relu', input_shape=(218, 178, 3), kernel_regularizer=regularizers.l2(0.001), padding=\"VALID\"),\n",
    "    MaxPooling2D(pool_s),\n",
    "\n",
    "    Conv2D(64, kernel_s, activation='relu'),\n",
    "    MaxPooling2D(pool_s),\n",
    "\n",
    "    Conv2D(64, kernel_s, activation='relu'),\n",
    "    MaxPooling2D(pool_s),\n",
    "\n",
    "    Conv2D(128, kernel_s, activation='relu'),\n",
    "    MaxPooling2D(pool_s),\n",
    "\n",
    "    Conv2D(128, kernel_s, activation='relu'),\n",
    "    MaxPooling2D(pool_s),\n",
    "\n",
    "    # Last layer decise -> preparation for this = some layers before\n",
    "    Flatten(),\n",
    "    Dense(1024, activation='relu', kernel_initializer='ones', use_bias=True, bias_initializer='zeros'),\n",
    "#     Dropout(0.5),\n",
    "    Dense(1, activation='sigmoid', kernel_initializer='ones', use_bias=True, bias_initializer='zeros')\n",
    "])\n",
    "\n",
    "pre_defined_model_whole.summary()"
   ]
  },
  {
   "cell_type": "code",
   "execution_count": null,
   "id": "c5ba9ebe-a382-49b2-8370-164016818553",
   "metadata": {},
   "outputs": [],
   "source": [
    "preds_whole_model_whole = pre_defined_model_whole.predict(images_to_compute)\n",
    "preds_whole_model_whole"
   ]
  },
  {
   "cell_type": "code",
   "execution_count": null,
   "id": "88dac774-a3bd-4575-ab81-50b757928a4d",
   "metadata": {},
   "outputs": [],
   "source": [
    "# Test own implemented Dense layer OwnDense\n",
    "own_model_whole = OwnSequential([\n",
    "    OwnConv2D(units=32, kernel_s=kernel_s, activation='relu'),\n",
    "    OwnMaxPooling2D(pool_s),\n",
    "\n",
    "    OwnConv2D(units=64, kernel_s=kernel_s, activation='relu'),\n",
    "    OwnMaxPooling2D(pool_s),\n",
    "\n",
    "    OwnConv2D(units=64, kernel_s=kernel_s, activation='relu'),\n",
    "    OwnMaxPooling2D(pool_s),\n",
    "\n",
    "    OwnConv2D(units=128, kernel_s=kernel_s, activation='relu'),\n",
    "    OwnMaxPooling2D(pool_s),\n",
    "\n",
    "    OwnConv2D(units=128, kernel_s=kernel_s, activation='relu'),\n",
    "    OwnMaxPooling2D(pool_s),\n",
    "\n",
    "    OwnFlatten(),\n",
    "    OwnDense(units=1024, activation=\"relu\"),\n",
    "    OwnDense(units=1, activation=\"sigmoid\"),\n",
    "\n",
    "])\n",
    "\n",
    "preds_own_model_whole = own_model_whole.predict(images_to_compute)\n",
    "preds_own_model_whole"
   ]
  }
 ],
 "metadata": {
  "kernelspec": {
   "display_name": "Python 3 (ipykernel)",
   "language": "python",
   "name": "python3"
  },
  "language_info": {
   "codemirror_mode": {
    "name": "ipython",
    "version": 3
   },
   "file_extension": ".py",
   "mimetype": "text/x-python",
   "name": "python",
   "nbconvert_exporter": "python",
   "pygments_lexer": "ipython3",
   "version": "3.7.12"
  }
 },
 "nbformat": 4,
 "nbformat_minor": 5
}
