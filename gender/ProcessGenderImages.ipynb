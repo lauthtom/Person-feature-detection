{
 "cells": [
  {
   "cell_type": "code",
   "execution_count": 1,
   "id": "c1f4088c-b149-491a-86b5-4961d2d66522",
   "metadata": {
    "tags": []
   },
   "outputs": [],
   "source": [
    "import shutil\n",
    "import os\n",
    "import zipfile\n",
    "\n",
    "import pandas as pd\n",
    "import numpy as np\n",
    "import seaborn as sns\n",
    "import matplotlib.pyplot as plt\n",
    "\n",
    "from sklearn.model_selection import train_test_split"
   ]
  },
  {
   "cell_type": "code",
   "execution_count": 2,
   "id": "e1c080fd-0e48-4b6d-9f3f-c35c3864c3eb",
   "metadata": {
    "tags": []
   },
   "outputs": [
    {
     "name": "stdout",
     "output_type": "stream",
     "text": [
      "['image_id', '5_o_Clock_Shadow', 'Arched_Eyebrows', 'Attractive', 'Bags_Under_Eyes', 'Bald', 'Bangs', 'Big_Lips', 'Big_Nose', 'Black_Hair', 'Blond_Hair', 'Blurry', 'Brown_Hair', 'Bushy_Eyebrows', 'Chubby', 'Double_Chin', 'Eyeglasses', 'Goatee', 'Gray_Hair', 'Heavy_Makeup', 'High_Cheekbones', 'Male', 'Mouth_Slightly_Open', 'Mustache', 'Narrow_Eyes', 'No_Beard', 'Oval_Face', 'Pale_Skin', 'Pointy_Nose', 'Receding_Hairline', 'Rosy_Cheeks', 'Sideburns', 'Smiling', 'Straight_Hair', 'Wavy_Hair', 'Wearing_Earrings', 'Wearing_Hat', 'Wearing_Lipstick', 'Wearing_Necklace', 'Wearing_Necktie', 'Young']\n",
      "0         000001.jpg\n",
      "1         000002.jpg\n",
      "2         000003.jpg\n",
      "3         000004.jpg\n",
      "4         000005.jpg\n",
      "             ...    \n",
      "202594    202595.jpg\n",
      "202595    202596.jpg\n",
      "202596    202597.jpg\n",
      "202597    202598.jpg\n",
      "202598    202599.jpg\n",
      "Name: image_id, Length: 202599, dtype: object, 0        -1\n",
      "1        -1\n",
      "2         1\n",
      "3        -1\n",
      "4        -1\n",
      "         ..\n",
      "202594   -1\n",
      "202595    1\n",
      "202596    1\n",
      "202597   -1\n",
      "202598   -1\n",
      "Name: Male, Length: 202599, dtype: int64\n"
     ]
    }
   ],
   "source": [
    "df = pd.read_csv(\"../Datasets/list_attr_celeba.csv\")\n",
    "attributes = df.columns.tolist()\n",
    "print(attributes)\n",
    "print(f\"{df['image_id']}, {df['Male']}\") # 1 is Male and -1 is Female"
   ]
  },
  {
   "cell_type": "code",
   "execution_count": 3,
   "id": "f375d871-f550-4b54-a68f-1fb86be6d271",
   "metadata": {
    "tags": []
   },
   "outputs": [
    {
     "name": "stdout",
     "output_type": "stream",
     "text": [
      "          image_id  Male\n",
      "0       000001.jpg    -1\n",
      "1       000002.jpg    -1\n",
      "2       000003.jpg     1\n",
      "3       000004.jpg    -1\n",
      "4       000005.jpg    -1\n",
      "...            ...   ...\n",
      "202594  202595.jpg    -1\n",
      "202595  202596.jpg     1\n",
      "202596  202597.jpg     1\n",
      "202597  202598.jpg    -1\n",
      "202598  202599.jpg    -1\n",
      "\n",
      "[202599 rows x 2 columns]\n"
     ]
    }
   ],
   "source": [
    "df_filtered = df[['image_id', 'Male']]\n",
    "print(df_filtered)"
   ]
  },
  {
   "cell_type": "code",
   "execution_count": 5,
   "id": "54337b61-6869-4f54-b836-7184ab5200c4",
   "metadata": {
    "tags": []
   },
   "outputs": [
    {
     "data": {
      "image/png": "[encoded data removed]",
      "text/plain": [
       "<Figure size 640x480 with 1 Axes>"
      ]
     },
     "metadata": {},
     "output_type": "display_data"
    },
    {
     "name": "stdout",
     "output_type": "stream",
     "text": [
      "[ 1 -1]\n",
      "Male\n",
      " 1    4000\n",
      "-1    4000\n",
      "Name: count, dtype: int64\n"
     ]
    }
   ],
   "source": [
    "df_male = df_filtered[df_filtered['Male'] == 1]\n",
    "df_female = df_filtered[df_filtered['Male'] == -1]\n",
    "\n",
    "df_male_sampled = df_male.sample(min(len(df_male), 4000), random_state=42)\n",
    "df_female_sampled = df_female.sample(min(len(df_female), 4000), random_state=42)\n",
    "\n",
    "df_sampled = pd.concat([df_male_sampled, df_female_sampled])\n",
    "df_sampled = df_sampled.sample(frac=1, random_state=42).reset_index(drop=True)\n",
    "\n",
    "plt.title('Gender')\n",
    "sns.countplot(y=df_sampled['Male'], color=\"c\")\n",
    "plt.show()\n",
    "\n",
    "print(df_sampled['Male'].unique())\n",
    "print(df_sampled['Male'].value_counts())"
   ]
  },
  {
   "cell_type": "code",
   "execution_count": 6,
   "id": "5d67efda-f7f4-4a13-bc19-e967cc2ee20a",
   "metadata": {
    "tags": []
   },
   "outputs": [],
   "source": [
    "source_folder = \"../Datasets/img_align_celeba/img_align_celeba\"\n",
    "male_folder = \"Male/\"\n",
    "female_folder = \"Female/\"\n",
    "\n",
    "os.makedirs(male_folder, exist_ok=True)\n",
    "os.makedirs(female_folder, exist_ok=True)\n",
    "\n",
    "for _, row in df_sampled.iterrows():\n",
    "    image_name = row['image_id']\n",
    "    male = row['Male']\n",
    "    \n",
    "    source_path = os.path.join(source_folder, image_name)\n",
    "    \n",
    "    if male == 1:\n",
    "        target_path = os.path.join(male_folder, image_name)\n",
    "    else:\n",
    "        target_path = os.path.join(female_folder, image_name)\n",
    "    \n",
    "    if os.path.exists(source_path):\n",
    "        shutil.copy(source_path, target_path)\n",
    "    else:\n",
    "        print(f\"File not found: {source_path}\")"
   ]
  },
  {
   "cell_type": "code",
   "execution_count": 7,
   "id": "f42a96b8-d73e-455e-b8f0-0be94c1443f8",
   "metadata": {
    "tags": []
   },
   "outputs": [],
   "source": [
    "source_male_folder = \"Male/\"\n",
    "source_female_folder = \"Female/\"\n",
    "\n",
    "train_folder = \"Train/\"\n",
    "val_folder = \"Validate/\"\n",
    "test_folder = \"Test/\"\n",
    "\n",
    "os.makedirs(os.path.join(train_folder, \"Male\"), exist_ok=True)\n",
    "os.makedirs(os.path.join(train_folder, \"Female\"), exist_ok=True)\n",
    "os.makedirs(os.path.join(val_folder, \"Male\"), exist_ok=True)\n",
    "os.makedirs(os.path.join(val_folder, \"Female\"), exist_ok=True)\n",
    "os.makedirs(os.path.join(test_folder, \"Male\"), exist_ok=True)\n",
    "os.makedirs(os.path.join(test_folder, \"Female\"), exist_ok=True)\n",
    "\n",
    "def move_images(images, source_folder, target_folder):\n",
    "    for image in images:\n",
    "        source_path = os.path.join(source_folder, image)\n",
    "        \n",
    "        if os.path.isfile(source_path):\n",
    "            target_path = os.path.join(target_folder, image)\n",
    "            shutil.copy(source_path, target_path)\n",
    "        else:\n",
    "            print(f\"Skipped: {source_path} (It's a dir not a file)\")\n",
    "\n",
    "male_images = os.listdir(source_male_folder)\n",
    "female_images = os.listdir(source_female_folder)\n",
    "\n",
    "male_train, male_temp = train_test_split(male_images, test_size=0.2, random_state=42)\n",
    "male_val, male_test = train_test_split(male_temp, test_size=0.5, random_state=42)\n",
    "\n",
    "female_train, female_temp = train_test_split(female_images, test_size=0.2, random_state=42)\n",
    "female_val, female_test = train_test_split(female_temp, test_size=0.5, random_state=42)\n",
    "\n",
    "move_images(male_train, source_male_folder, os.path.join(train_folder, \"Male\"))\n",
    "move_images(male_val, source_male_folder, os.path.join(val_folder, \"Male\"))\n",
    "move_images(male_test, source_male_folder, os.path.join(test_folder, \"Male\"))\n",
    "\n",
    "move_images(female_train, source_female_folder, os.path.join(train_folder, \"Female\"))\n",
    "move_images(female_val, source_female_folder, os.path.join(val_folder, \"Female\"))\n",
    "move_images(female_test, source_female_folder, os.path.join(test_folder, \"Female\"))"
   ]
  },
  {
   "cell_type": "code",
   "execution_count": null,
   "id": "25e5ebc4-edd8-4151-b3d9-da5f2fabaee8",
   "metadata": {},
   "outputs": [],
   "source": []
  }
 ],
 "metadata": {
  "kernelspec": {
   "display_name": "Python 3 (ipykernel)",
   "language": "python",
   "name": "python3"
  },
  "language_info": {
   "codemirror_mode": {
    "name": "ipython",
    "version": 3
   },
   "file_extension": ".py",
   "mimetype": "text/x-python",
   "name": "python",
   "nbconvert_exporter": "python",
   "pygments_lexer": "ipython3",
   "version": "3.11.7"
  }
 },
 "nbformat": 4,
 "nbformat_minor": 5
}
