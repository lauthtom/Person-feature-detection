{
 "cells": [
  {
   "cell_type": "code",
   "execution_count": 56,
   "id": "8a9cf37e-557f-4a14-9519-5200b9b5a0f8",
   "metadata": {
    "tags": []
   },
   "outputs": [],
   "source": [
    "import shutil\n",
    "import os\n",
    "import zipfile\n",
    "\n",
    "import pandas as pd\n",
    "import numpy as np\n",
    "import seaborn as sns\n",
    "import matplotlib.pyplot as plt\n",
    "\n",
    "from PIL import Image, ImageOps\n",
    "from sklearn.model_selection import train_test_split"
   ]
  },
  {
   "cell_type": "code",
   "execution_count": 67,
   "id": "f47edf11-111f-4d45-bf00-3636ffb8077e",
   "metadata": {
    "tags": []
   },
   "outputs": [],
   "source": [
    "images = []\n",
    "ages = []\n",
    "genders = []\n",
    "\n",
    "# Dataset is from the following paper: https://arxiv.org/pdf/1702.08423\n",
    "\n",
    "for i in os.listdir('../Datasets/utkface_aligned_cropped/crop_part1/')[0:10000]:\n",
    "    split = i.split('_')\n",
    "    ages.append(int(split[0]))\n",
    "    genders.append(int(split[1]))\n",
    "    images.append(Image.open('../Datasets/utkface_aligned_cropped/crop_part1/' + i))"
   ]
  },
  {
   "cell_type": "code",
   "execution_count": 68,
   "id": "dfcd205c-c782-4be7-af28-15d3a41f2af9",
   "metadata": {
    "tags": []
   },
   "outputs": [
    {
     "name": "stdout",
     "output_type": "stream",
     "text": [
      "                                                 Images  Ages  Genders\n",
      "0     <PIL.JpegImagePlugin.JpegImageFile image mode=...    27        0\n",
      "1     <PIL.JpegImagePlugin.JpegImageFile image mode=...    75        0\n",
      "2     <PIL.JpegImagePlugin.JpegImageFile image mode=...     1        0\n",
      "3     <PIL.JpegImagePlugin.JpegImageFile image mode=...    23        1\n",
      "4     <PIL.JpegImagePlugin.JpegImageFile image mode=...    36        0\n",
      "...                                                 ...   ...      ...\n",
      "9775  <PIL.JpegImagePlugin.JpegImageFile image mode=...    63        0\n",
      "9776  <PIL.JpegImagePlugin.JpegImageFile image mode=...    24        1\n",
      "9777  <PIL.JpegImagePlugin.JpegImageFile image mode=...     9        0\n",
      "9778  <PIL.JpegImagePlugin.JpegImageFile image mode=...    53        0\n",
      "9779  <PIL.JpegImagePlugin.JpegImageFile image mode=...    36        1\n",
      "\n",
      "[9780 rows x 3 columns]\n"
     ]
    }
   ],
   "source": [
    "images = pd.Series(list(images), name = 'Images')\n",
    "ages = pd.Series(list(ages), name = 'Ages')\n",
    "genders = pd.Series(list(genders), name = 'Genders')\n",
    "\n",
    "df = pd.concat([images, ages, genders], axis=1)\n",
    "print(df)"
   ]
  },
  {
   "cell_type": "code",
   "execution_count": 69,
   "id": "3f5712de-52cb-406e-a838-6ec2359de592",
   "metadata": {
    "tags": []
   },
   "outputs": [
    {
     "data": {
      "text/plain": [
       "array([ 27,  75,   1,  23,  36,  58,  48,  15,  21,  16,  72,  14,   6,\n",
       "         4,  19,  39,  45,  17,  62,  18,   3,  65,   2,  49,  51,  29,\n",
       "        30,  56,  63,  28,  22,  70,  69,   8,  11,  80,  10,  34,  54,\n",
       "         5,  26,  24,  13,  67,  93,  32,  78,   9,  55,  52,  35,  31,\n",
       "        41,  64,   7,  47,  12,  68,  77,  59,  37,  20,  90,  95,  38,\n",
       "        25,  40,  82,  66,  44,  43,  46,  92,  53,  89,  60,  50,  85,\n",
       "        42,  57,  73,  61,  86,  79,  96,  33,  74,  76,  71,  84,  99,\n",
       "       101,  88, 110,  81,  83,  91, 100,  87])"
      ]
     },
     "execution_count": 69,
     "metadata": {},
     "output_type": "execute_result"
    }
   ],
   "source": [
    "df['Ages'].unique()"
   ]
  },
  {
   "cell_type": "code",
   "execution_count": 70,
   "id": "c825c129-ddd0-4c61-8c29-5b25e7a967b9",
   "metadata": {
    "tags": []
   },
   "outputs": [
    {
     "name": "stdout",
     "output_type": "stream",
     "text": [
      "              Ages      Genders\n",
      "count  9780.000000  9780.000000\n",
      "mean     29.421575     0.553170\n",
      "std      24.777333     0.497807\n",
      "min       1.000000     0.000000\n",
      "25%       7.000000     0.000000\n",
      "50%      25.000000     1.000000\n",
      "75%      49.000000     1.000000\n",
      "max     110.000000     3.000000\n",
      "              Ages      Genders\n",
      "count  9777.000000  9777.000000\n",
      "mean     29.397770     0.553033\n",
      "std      24.743719     0.497822\n",
      "min       1.000000     0.000000\n",
      "25%       7.000000     0.000000\n",
      "50%      25.000000     1.000000\n",
      "75%      49.000000     1.000000\n",
      "max     100.000000     3.000000\n"
     ]
    }
   ],
   "source": [
    "bins = [0, 4, 14, 20, 30, 40, 50, 60, 100]\n",
    "labels = ['0-4', '5-14', '15-20', '21-30', '31-40', '41-50', '51-60', '60-100']\n",
    "\n",
    "df['AgeRange'] = pd.cut(df['Ages'], bins=bins, labels=labels, right=True)\n",
    "\n",
    "# df.info()\n",
    "\n",
    "print(df.describe())\n",
    "\n",
    "# Entfernen von Zeilen mit NaN in AgeRange\n",
    "df = df.dropna(subset=['AgeRange'])\n",
    "\n",
    "print(df.describe())"
   ]
  },
  {
   "cell_type": "code",
   "execution_count": 71,
   "id": "df6828ba-7827-4098-8322-c3ac5497e283",
   "metadata": {
    "tags": []
   },
   "outputs": [
    {
     "name": "stdout",
     "output_type": "stream",
     "text": [
      "Daten wurden erfolgreich in die Ordnerstruktur aufgeteilt!\n"
     ]
    }
   ],
   "source": [
    "base_dir = \".\"\n",
    "splits = ['Train', 'Validate', 'Test']\n",
    "\n",
    "train_ratio = 0.8\n",
    "val_ratio = 0.05\n",
    "test_ratio = 0.15\n",
    "\n",
    "for split in splits:\n",
    "    for age_range in df['AgeRange'].unique():\n",
    "        path = os.path.join(base_dir, split, str(age_range))\n",
    "        os.makedirs(path, exist_ok=True)\n",
    "\n",
    "train_df, temp_df = train_test_split(df, test_size=val_ratio + test_ratio, stratify=df['AgeRange'], random_state=42)\n",
    "val_df, test_df = train_test_split(temp_df, test_size=test_ratio / (val_ratio + test_ratio), stratify=temp_df['AgeRange'], random_state=42)\n",
    "\n",
    "# Funktion, um Bilder in die entsprechenden Ordner zu kopieren\n",
    "def copy_images(dataframe, split):\n",
    "    for _, row in dataframe.iterrows():\n",
    "        image = row['Images']  # Bild aus der DataFrame-Zeile\n",
    "        age_range = str(row['AgeRange'])\n",
    "        dest_dir = os.path.join(base_dir, split, age_range)\n",
    "        image_path = f\"{dest_dir}/{os.path.basename(image.filename)}\"  # Dateiname erhalten\n",
    "        image.save(image_path)  # Bild speichern\n",
    "\n",
    "# Bilder in die entsprechenden Ordner kopieren\n",
    "copy_images(train_df, \"Train\")\n",
    "copy_images(val_df, \"Validate\")\n",
    "copy_images(test_df, \"Test\")\n",
    "\n",
    "print(\"Daten wurden erfolgreich in die Ordnerstruktur aufgeteilt!\")"
   ]
  },
  {
   "cell_type": "code",
   "execution_count": null,
   "id": "1b259a3c-9adc-45be-b0c3-97013e6465ae",
   "metadata": {},
   "outputs": [],
   "source": []
  }
 ],
 "metadata": {
  "kernelspec": {
   "display_name": "Python 3 (ipykernel)",
   "language": "python",
   "name": "python3"
  },
  "language_info": {
   "codemirror_mode": {
    "name": "ipython",
    "version": 3
   },
   "file_extension": ".py",
   "mimetype": "text/x-python",
   "name": "python",
   "nbconvert_exporter": "python",
   "pygments_lexer": "ipython3",
   "version": "3.11.7"
  }
 },
 "nbformat": 4,
 "nbformat_minor": 5
}
