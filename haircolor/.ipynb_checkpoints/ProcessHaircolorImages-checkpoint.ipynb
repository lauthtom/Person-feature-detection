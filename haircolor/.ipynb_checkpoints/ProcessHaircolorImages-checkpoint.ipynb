{
 "cells": [
  {
   "cell_type": "code",
   "execution_count": 1,
   "id": "c1f4088c-b149-491a-86b5-4961d2d66522",
   "metadata": {
    "tags": []
   },
   "outputs": [],
   "source": [
    "import shutil\n",
    "import os\n",
    "import zipfile\n",
    "\n",
    "import pandas as pd\n",
    "import numpy as np\n",
    "import seaborn as sns\n",
    "import matplotlib.pyplot as plt\n",
    "\n",
    "from sklearn.model_selection import train_test_split"
   ]
  },
  {
   "cell_type": "code",
   "execution_count": 10,
   "id": "e1c080fd-0e48-4b6d-9f3f-c35c3864c3eb",
   "metadata": {
    "tags": []
   },
   "outputs": [
    {
     "name": "stdout",
     "output_type": "stream",
     "text": [
      "41\n"
     ]
    },
    {
     "data": {
      "text/plain": [
       "Index(['image_id', '5_o_Clock_Shadow', 'Arched_Eyebrows', 'Attractive',\n",
       "       'Bags_Under_Eyes', 'Bald', 'Bangs', 'Big_Lips', 'Big_Nose',\n",
       "       'Black_Hair', 'Blond_Hair', 'Blurry', 'Brown_Hair', 'Bushy_Eyebrows',\n",
       "       'Chubby', 'Double_Chin', 'Eyeglasses', 'Goatee', 'Gray_Hair',\n",
       "       'Heavy_Makeup', 'High_Cheekbones', 'Male', 'Mouth_Slightly_Open',\n",
       "       'Mustache', 'Narrow_Eyes', 'No_Beard', 'Oval_Face', 'Pale_Skin',\n",
       "       'Pointy_Nose', 'Receding_Hairline', 'Rosy_Cheeks', 'Sideburns',\n",
       "       'Smiling', 'Straight_Hair', 'Wavy_Hair', 'Wearing_Earrings',\n",
       "       'Wearing_Hat', 'Wearing_Lipstick', 'Wearing_Necklace',\n",
       "       'Wearing_Necktie', 'Young'],\n",
       "      dtype='object')"
      ]
     },
     "execution_count": 10,
     "metadata": {},
     "output_type": "execute_result"
    }
   ],
   "source": [
    "df = pd.read_csv(\"../../Datasets/CelebA/list_attr_celeba.csv\")\n",
    "attributes = df.columns.tolist()\n",
    "print(len(attributes))\n",
    "df.columns\n",
    "# print(f\"{df['image_id']}, {df['Male']}, {df['Black_Hair'], df['Blond_Hair'], df['Brown_Hair'], df['Gray_Hair']}\") # 1 is no_beard and -1 is beard , 1 is Male and -1 is Female"
   ]
  },
  {
   "cell_type": "code",
   "execution_count": 3,
   "id": "f375d871-f550-4b54-a68f-1fb86be6d271",
   "metadata": {
    "tags": []
   },
   "outputs": [
    {
     "name": "stderr",
     "output_type": "stream",
     "text": [
      "/tmp/ipykernel_48866/1621864738.py:15: SettingWithCopyWarning: \n",
      "A value is trying to be set on a copy of a slice from a DataFrame.\n",
      "Try using .loc[row_indexer,col_indexer] = value instead\n",
      "\n",
      "See the caveats in the documentation: https://pandas.pydata.org/pandas-docs/stable/user_guide/indexing.html#returning-a-view-versus-a-copy\n",
      "  df_filtered['Hair_Color'] = df.apply(get_hair_color, axis=1)\n"
     ]
    }
   ],
   "source": [
    "df_filtered = df[['image_id', 'Male', 'Black_Hair', 'Blond_Hair', 'Brown_Hair', 'Gray_Hair']]\n",
    "\n",
    "def get_hair_color(row):\n",
    "    if row['Black_Hair'] == 1:\n",
    "        return 'Black_Hair'\n",
    "    elif row['Blond_Hair'] == 1:\n",
    "        return 'Blond_Hair'\n",
    "    elif row['Brown_Hair'] == 1:\n",
    "        return 'Brown_Hair'\n",
    "    elif row['Gray_Hair'] == 1:\n",
    "        return 'Gray_Hair'\n",
    "    else:\n",
    "        return None\n",
    "\n",
    "df_filtered['Hair_Color'] = df.apply(get_hair_color, axis=1)\n",
    "\n",
    "df_filtered = df_filtered.drop(columns=['Black_Hair', 'Blond_Hair', 'Brown_Hair', 'Gray_Hair'])"
   ]
  },
  {
   "cell_type": "code",
   "execution_count": 4,
   "id": "bc1944ac-2df5-4213-9319-ee66c3da5302",
   "metadata": {
    "tags": []
   },
   "outputs": [
    {
     "name": "stdout",
     "output_type": "stream",
     "text": [
      "['Brown_Hair' None 'Black_Hair' 'Blond_Hair' 'Gray_Hair']\n",
      "['Brown_Hair' 'Black_Hair' 'Blond_Hair' 'Gray_Hair']\n",
      "          image_id  Male  Hair_Color\n",
      "0       000001.jpg    -1  Brown_Hair\n",
      "1       000002.jpg    -1  Brown_Hair\n",
      "5       000006.jpg    -1  Brown_Hair\n",
      "6       000007.jpg     1  Black_Hair\n",
      "7       000008.jpg     1  Black_Hair\n",
      "...            ...   ...         ...\n",
      "202594  202595.jpg    -1  Blond_Hair\n",
      "202595  202596.jpg     1  Blond_Hair\n",
      "202596  202597.jpg     1  Black_Hair\n",
      "202597  202598.jpg    -1  Black_Hair\n",
      "202598  202599.jpg    -1  Blond_Hair\n",
      "\n",
      "[125596 rows x 3 columns]\n"
     ]
    }
   ],
   "source": [
    "print(df_filtered['Hair_Color'].unique())\n",
    "df_filtered = df_filtered[df_filtered['Hair_Color'].notna()]\n",
    "print(df_filtered['Hair_Color'].unique())\n",
    "print(df_filtered)"
   ]
  },
  {
   "cell_type": "code",
   "execution_count": 5,
   "id": "54337b61-6869-4f54-b836-7184ab5200c4",
   "metadata": {
    "tags": []
   },
   "outputs": [
    {
     "name": "stderr",
     "output_type": "stream",
     "text": [
      "/tmp/ipykernel_48866/125671150.py:1: DeprecationWarning: DataFrameGroupBy.apply operated on the grouping columns. This behavior is deprecated, and in a future version of pandas the grouping columns will be excluded from the operation. Either pass `include_groups=False` to exclude the groupings or explicitly select the grouping columns after groupby to silence this warning.\n",
      "  df_sampled = df_filtered.groupby('Hair_Color').apply(lambda x: x.sample(min(len(x), 2000), random_state=42))\n"
     ]
    },
    {
     "data": {
      "image/png": "[encoded data removed]",
      "text/plain": [
       "<Figure size 640x480 with 1 Axes>"
      ]
     },
     "metadata": {},
     "output_type": "display_data"
    }
   ],
   "source": [
    "df_sampled = df_filtered.groupby('Hair_Color').apply(lambda x: x.sample(min(len(x), 2000), random_state=42))\n",
    "df_sampled = df_sampled.reset_index(drop=True)\n",
    "\n",
    "plt.title('Haircolor')\n",
    "sns.countplot(y=df_sampled['Hair_Color'], color=\"c\")\n",
    "plt.show()"
   ]
  },
  {
   "cell_type": "code",
   "execution_count": 6,
   "id": "5d67efda-f7f4-4a13-bc19-e967cc2ee20a",
   "metadata": {
    "tags": []
   },
   "outputs": [],
   "source": [
    "source_folder = \"../../Datasets/CelebA/img_align_celeba/img_align_celeba\"\n",
    "brown_hair_folder = \"Brown_Hair/\"\n",
    "black_hair_folder = \"Black_Hair/\"\n",
    "blond_hair_folder = \"Blond_Hair/\"\n",
    "gray_hair_folder = \"Gray_Hair/\"\n",
    "\n",
    "os.makedirs(brown_hair_folder, exist_ok=True)\n",
    "os.makedirs(black_hair_folder, exist_ok=True)\n",
    "os.makedirs(blond_hair_folder, exist_ok=True)\n",
    "os.makedirs(gray_hair_folder, exist_ok=True)\n",
    "\n",
    "for _, row in df_sampled.iterrows():\n",
    "    image_name = row['image_id']\n",
    "    haircolor = row['Hair_Color']\n",
    "    \n",
    "    source_path = os.path.join(source_folder, image_name)\n",
    "    \n",
    "    if haircolor == \"Brown_Hair\":\n",
    "        target_path = os.path.join(brown_hair_folder, image_name)\n",
    "    elif haircolor == \"Black_Hair\":\n",
    "        target_path = os.path.join(black_hair_folder, image_name)\n",
    "    elif haircolor == \"Blond_Hair\":\n",
    "        target_path = os.path.join(blond_hair_folder, image_name)\n",
    "    elif haircolor == \"Gray_Hair\":\n",
    "        target_path = os.path.join(gray_hair_folder, image_name)\n",
    "    \n",
    "    if os.path.exists(source_path):\n",
    "        shutil.copy(source_path, target_path)\n",
    "    else:\n",
    "        print(f\"Datei nicht gefunden: {source_path}\")"
   ]
  },
  {
   "cell_type": "code",
   "execution_count": 7,
   "id": "f42a96b8-d73e-455e-b8f0-0be94c1443f8",
   "metadata": {
    "tags": []
   },
   "outputs": [],
   "source": [
    "source_base_folder = \"./\"\n",
    "target_base_folder = \"./\"\n",
    "\n",
    "hair_colors = [\"Gray_Hair\", \"Brown_Hair\", \"Blond_Hair\", \"Black_Hair\"]\n",
    "\n",
    "def create_directories(target_base_folder, hair_colors):\n",
    "    for folder in [\"Train\", \"Validate\", \"Test\"]:\n",
    "        for color in hair_colors:\n",
    "            target_folder = os.path.join(target_base_folder, folder, color)\n",
    "            os.makedirs(target_folder, exist_ok=True)\n",
    "\n",
    "def move_images(images, source_folder, target_folder):\n",
    "    for image in images:\n",
    "        source_path = os.path.join(source_folder, image)\n",
    "        if os.path.isfile(source_path):\n",
    "            target_path = os.path.join(target_folder, image)\n",
    "            shutil.copy(source_path, target_path)\n",
    "\n",
    "create_directories(target_base_folder, hair_colors)\n",
    "\n",
    "for hair_color in hair_colors:\n",
    "    source_folder = os.path.join(source_base_folder, hair_color)\n",
    "    \n",
    "    images = os.listdir(source_folder)\n",
    "    \n",
    "    train_images, temp_images = train_test_split(images, test_size=0.2, random_state=42)\n",
    "    val_images, test_images = train_test_split(temp_images, test_size=0.5, random_state=42)\n",
    "    \n",
    "    train_folder = os.path.join(target_base_folder, \"Train\", hair_color)\n",
    "    val_folder = os.path.join(target_base_folder, \"Validate\", hair_color)\n",
    "    test_folder = os.path.join(target_base_folder, \"Test\", hair_color)\n",
    "    \n",
    "    move_images(train_images, source_folder, train_folder)\n",
    "    move_images(val_images, source_folder, val_folder)\n",
    "    move_images(test_images, source_folder, test_folder)"
   ]
  },
  {
   "cell_type": "code",
   "execution_count": null,
   "id": "25e5ebc4-edd8-4151-b3d9-da5f2fabaee8",
   "metadata": {},
   "outputs": [],
   "source": []
  }
 ],
 "metadata": {
  "kernelspec": {
   "display_name": "Python 3 (ipykernel)",
   "language": "python",
   "name": "python3"
  },
  "language_info": {
   "codemirror_mode": {
    "name": "ipython",
    "version": 3
   },
   "file_extension": ".py",
   "mimetype": "text/x-python",
   "name": "python",
   "nbconvert_exporter": "python",
   "pygments_lexer": "ipython3",
   "version": "3.11.7"
  }
 },
 "nbformat": 4,
 "nbformat_minor": 5
}
