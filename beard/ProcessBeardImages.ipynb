{
 "cells": [
  {
   "cell_type": "code",
   "execution_count": 1,
   "id": "c1f4088c-b149-491a-86b5-4961d2d66522",
   "metadata": {
    "tags": []
   },
   "outputs": [],
   "source": [
    "import shutil\n",
    "import os\n",
    "import zipfile\n",
    "\n",
    "import pandas as pd\n",
    "import numpy as np\n",
    "import seaborn as sns\n",
    "import matplotlib.pyplot as plt\n",
    "\n",
    "from sklearn.model_selection import train_test_split"
   ]
  },
  {
   "cell_type": "code",
   "execution_count": 3,
   "id": "e1c080fd-0e48-4b6d-9f3f-c35c3864c3eb",
   "metadata": {
    "tags": []
   },
   "outputs": [
    {
     "name": "stdout",
     "output_type": "stream",
     "text": [
      "['image_id', '5_o_Clock_Shadow', 'Arched_Eyebrows', 'Attractive', 'Bags_Under_Eyes', 'Bald', 'Bangs', 'Big_Lips', 'Big_Nose', 'Black_Hair', 'Blond_Hair', 'Blurry', 'Brown_Hair', 'Bushy_Eyebrows', 'Chubby', 'Double_Chin', 'Eyeglasses', 'Goatee', 'Gray_Hair', 'Heavy_Makeup', 'High_Cheekbones', 'Male', 'Mouth_Slightly_Open', 'Mustache', 'Narrow_Eyes', 'No_Beard', 'Oval_Face', 'Pale_Skin', 'Pointy_Nose', 'Receding_Hairline', 'Rosy_Cheeks', 'Sideburns', 'Smiling', 'Straight_Hair', 'Wavy_Hair', 'Wearing_Earrings', 'Wearing_Hat', 'Wearing_Lipstick', 'Wearing_Necklace', 'Wearing_Necktie', 'Young']\n",
      "0         000001.jpg\n",
      "1         000002.jpg\n",
      "2         000003.jpg\n",
      "3         000004.jpg\n",
      "4         000005.jpg\n",
      "             ...    \n",
      "202594    202595.jpg\n",
      "202595    202596.jpg\n",
      "202596    202597.jpg\n",
      "202597    202598.jpg\n",
      "202598    202599.jpg\n",
      "Name: image_id, Length: 202599, dtype: object, 0        -1\n",
      "1        -1\n",
      "2         1\n",
      "3        -1\n",
      "4        -1\n",
      "         ..\n",
      "202594   -1\n",
      "202595    1\n",
      "202596    1\n",
      "202597   -1\n",
      "202598   -1\n",
      "Name: Male, Length: 202599, dtype: int64, 0         1\n",
      "1         1\n",
      "2         1\n",
      "3         1\n",
      "4         1\n",
      "         ..\n",
      "202594    1\n",
      "202595    1\n",
      "202596    1\n",
      "202597    1\n",
      "202598    1\n",
      "Name: No_Beard, Length: 202599, dtype: int64\n"
     ]
    }
   ],
   "source": [
    "df = pd.read_csv(\"../Datasets/list_attr_celeba.csv\")\n",
    "attributes = df.columns.tolist()\n",
    "print(attributes)\n",
    "print(f\"{df['image_id']}, {df['Male']}, {df['No_Beard']}\") # 1 is no_beard and -1 is beard , 1 is Male and -1 is Female"
   ]
  },
  {
   "cell_type": "code",
   "execution_count": 4,
   "id": "f375d871-f550-4b54-a68f-1fb86be6d271",
   "metadata": {
    "tags": []
   },
   "outputs": [
    {
     "name": "stdout",
     "output_type": "stream",
     "text": [
      "          image_id  Male  No_Beard\n",
      "0       000001.jpg    -1         1\n",
      "1       000002.jpg    -1         1\n",
      "2       000003.jpg     1         1\n",
      "3       000004.jpg    -1         1\n",
      "4       000005.jpg    -1         1\n",
      "...            ...   ...       ...\n",
      "202594  202595.jpg    -1         1\n",
      "202595  202596.jpg     1         1\n",
      "202596  202597.jpg     1         1\n",
      "202597  202598.jpg    -1         1\n",
      "202598  202599.jpg    -1         1\n",
      "\n",
      "[202599 rows x 3 columns]\n"
     ]
    }
   ],
   "source": [
    "df_filtered = df[['image_id', 'Male', 'No_Beard']]\n",
    "\n",
    "print(df_filtered)"
   ]
  },
  {
   "cell_type": "code",
   "execution_count": 5,
   "id": "54337b61-6869-4f54-b836-7184ab5200c4",
   "metadata": {
    "tags": []
   },
   "outputs": [
    {
     "name": "stderr",
     "output_type": "stream",
     "text": [
      "/tmp/ipykernel_20305/2611986415.py:4: DeprecationWarning: DataFrameGroupBy.apply operated on the grouping columns. This behavior is deprecated, and in a future version of pandas the grouping columns will be excluded from the operation. Either pass `include_groups=False` to exclude the groupings or explicitly select the grouping columns after groupby to silence this warning.\n",
      "  df_sampled = df_filtered.groupby('No_Beard', group_keys=False).apply(lambda x: x.sample(min(len(x), 4000), random_state=42))\n"
     ]
    },
    {
     "data": {
      "image/png": "[encoded data removed]",
      "text/plain": [
       "<Figure size 640x480 with 1 Axes>"
      ]
     },
     "metadata": {},
     "output_type": "display_data"
    },
    {
     "name": "stdout",
     "output_type": "stream",
     "text": [
      "[1]\n"
     ]
    },
    {
     "data": {
      "text/plain": [
       "No_Beard\n",
       "-1    4000\n",
       " 1    4000\n",
       "Name: count, dtype: int64"
      ]
     },
     "execution_count": 5,
     "metadata": {},
     "output_type": "execute_result"
    }
   ],
   "source": [
    "df_filtered = df_filtered[df_filtered['Male'] == 1]\n",
    "# df_filtered = df_filtered.iloc[:2500]\n",
    "\n",
    "df_sampled = df_filtered.groupby('No_Beard', group_keys=False).apply(lambda x: x.sample(min(len(x), 4000), random_state=42))\n",
    "\n",
    "plt.title('Beard or No Beard')\n",
    "sns.countplot(y=df_sampled['No_Beard'], color=\"c\")\n",
    "plt.show()\n",
    "# df_filtered['No_Beard'].value_counts()\n",
    "print(df_sampled['Male'].unique())\n",
    "df_sampled['No_Beard'].value_counts()"
   ]
  },
  {
   "cell_type": "code",
   "execution_count": 6,
   "id": "5d67efda-f7f4-4a13-bc19-e967cc2ee20a",
   "metadata": {
    "tags": []
   },
   "outputs": [],
   "source": [
    "source_folder = \"../Datasets/img_align_celeba/img_align_celeba\"\n",
    "beard_folder = \"Beard/\"\n",
    "no_beard_folder = \"No_Beard/\"\n",
    "\n",
    "os.makedirs(beard_folder, exist_ok=True)\n",
    "os.makedirs(no_beard_folder, exist_ok=True)\n",
    "\n",
    "for _, row in df_sampled.iterrows():\n",
    "    image_name = row['image_id']\n",
    "    no_beard = row['No_Beard']\n",
    "    \n",
    "    source_path = os.path.join(source_folder, image_name)\n",
    "    \n",
    "    if no_beard == 1:\n",
    "        target_path = os.path.join(no_beard_folder, image_name)\n",
    "    else:\n",
    "        target_path = os.path.join(beard_folder, image_name)\n",
    "    \n",
    "    if os.path.exists(source_path):\n",
    "        shutil.copy(source_path, target_path)\n",
    "    else:\n",
    "        print(f\"File not found: {source_path}\")"
   ]
  },
  {
   "cell_type": "code",
   "execution_count": 7,
   "id": "f42a96b8-d73e-455e-b8f0-0be94c1443f8",
   "metadata": {
    "tags": []
   },
   "outputs": [],
   "source": [
    "source_beard_folder = \"Beard/\"\n",
    "source_no_beard_folder = \"No_Beard/\"\n",
    "\n",
    "train_folder = \"Train/\"\n",
    "val_folder = \"Validate/\"\n",
    "test_folder = \"Test/\"\n",
    "\n",
    "os.makedirs(os.path.join(train_folder, \"Beard\"), exist_ok=True)\n",
    "os.makedirs(os.path.join(train_folder, \"No Beard\"), exist_ok=True)\n",
    "os.makedirs(os.path.join(val_folder, \"Beard\"), exist_ok=True)\n",
    "os.makedirs(os.path.join(val_folder, \"No Beard\"), exist_ok=True)\n",
    "os.makedirs(os.path.join(test_folder, \"Beard\"), exist_ok=True)\n",
    "os.makedirs(os.path.join(test_folder, \"No Beard\"), exist_ok=True)\n",
    "\n",
    "def move_images(images, source_folder, target_folder):\n",
    "    for image in images:\n",
    "        source_path = os.path.join(source_folder, image)\n",
    "        \n",
    "        if os.path.isfile(source_path):\n",
    "            target_path = os.path.join(target_folder, image)\n",
    "            shutil.copy(source_path, target_path)\n",
    "        else:\n",
    "            print(f\"Skipped: {source_path} (It's a dir not a file)\")\n",
    "\n",
    "beard_images = os.listdir(source_beard_folder)\n",
    "no_beard_images = os.listdir(source_no_beard_folder)\n",
    "\n",
    "beard_train, beard_temp = train_test_split(beard_images, test_size=0.2, random_state=42)\n",
    "beard_val, beard_test = train_test_split(beard_temp, test_size=0.5, random_state=42)\n",
    "\n",
    "no_beard_train, no_beard_temp = train_test_split(no_beard_images, test_size=0.2, random_state=42)\n",
    "no_beard_val, no_beard_test = train_test_split(no_beard_temp, test_size=0.5, random_state=42)\n",
    "\n",
    "move_images(beard_train, source_beard_folder, os.path.join(train_folder, \"Beard\"))\n",
    "move_images(beard_val, source_beard_folder, os.path.join(val_folder, \"Beard\"))\n",
    "move_images(beard_test, source_beard_folder, os.path.join(test_folder, \"Beard\"))\n",
    "\n",
    "move_images(no_beard_train, source_no_beard_folder, os.path.join(train_folder, \"No Beard\"))\n",
    "move_images(no_beard_val, source_no_beard_folder, os.path.join(val_folder, \"No Beard\"))\n",
    "move_images(no_beard_test, source_no_beard_folder, os.path.join(test_folder, \"No Beard\"))"
   ]
  },
  {
   "cell_type": "code",
   "execution_count": null,
   "id": "25e5ebc4-edd8-4151-b3d9-da5f2fabaee8",
   "metadata": {},
   "outputs": [],
   "source": []
  }
 ],
 "metadata": {
  "kernelspec": {
   "display_name": "Python 3 (ipykernel)",
   "language": "python",
   "name": "python3"
  },
  "language_info": {
   "codemirror_mode": {
    "name": "ipython",
    "version": 3
   },
   "file_extension": ".py",
   "mimetype": "text/x-python",
   "name": "python",
   "nbconvert_exporter": "python",
   "pygments_lexer": "ipython3",
   "version": "3.11.7"
  }
 },
 "nbformat": 4,
 "nbformat_minor": 5
}
