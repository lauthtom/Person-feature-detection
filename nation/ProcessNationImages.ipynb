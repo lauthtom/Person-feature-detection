{
 "cells": [
  {
   "cell_type": "code",
   "execution_count": 62,
   "id": "8a9cf37e-557f-4a14-9519-5200b9b5a0f8",
   "metadata": {
    "tags": []
   },
   "outputs": [],
   "source": [
    "import shutil\n",
    "import os\n",
    "import zipfile\n",
    "\n",
    "import pandas as pd\n",
    "import numpy as np\n",
    "import seaborn as sns\n",
    "import matplotlib.pyplot as plt\n",
    "\n",
    "from PIL import Image, ImageOps\n",
    "from sklearn.model_selection import train_test_split"
   ]
  },
  {
   "cell_type": "code",
   "execution_count": 63,
   "id": "f47edf11-111f-4d45-bf00-3636ffb8077e",
   "metadata": {
    "tags": []
   },
   "outputs": [],
   "source": [
    "images = []\n",
    "nation = []\n",
    "genders = []\n",
    "\n",
    "# Dataset is from the following paper: https://arxiv.org/pdf/1702.08423\n",
    "for i in os.listdir(os.path.expanduser(\"~/Person-feature-detection/Datasets/utkface-dataset/UTKFace/\"))[0:10000]:\n",
    "    if i.count('_') >= 3:\n",
    "        split = i.split('_')\n",
    "        genders.append(int(split[1]))\n",
    "        nation.append(int(split[2]))\n",
    "        images.append(Image.open(os.path.expanduser(\"~/Person-feature-detection/Datasets/utkface-dataset/UTKFace/\" + i)))"
   ]
  },
  {
   "cell_type": "code",
   "execution_count": 64,
   "id": "dfcd205c-c782-4be7-af28-15d3a41f2af9",
   "metadata": {
    "tags": []
   },
   "outputs": [
    {
     "name": "stdout",
     "output_type": "stream",
     "text": [
      "                                                 Images  Nation  Genders\n",
      "0     <PIL.JpegImagePlugin.JpegImageFile image mode=...       2        1\n",
      "1     <PIL.JpegImagePlugin.JpegImageFile image mode=...       3        0\n",
      "2     <PIL.JpegImagePlugin.JpegImageFile image mode=...       0        1\n",
      "3     <PIL.JpegImagePlugin.JpegImageFile image mode=...       2        1\n",
      "4     <PIL.JpegImagePlugin.JpegImageFile image mode=...       3        0\n",
      "...                                                 ...     ...      ...\n",
      "9994  <PIL.JpegImagePlugin.JpegImageFile image mode=...       2        1\n",
      "9995  <PIL.JpegImagePlugin.JpegImageFile image mode=...       0        1\n",
      "9996  <PIL.JpegImagePlugin.JpegImageFile image mode=...       0        1\n",
      "9997  <PIL.JpegImagePlugin.JpegImageFile image mode=...       1        0\n",
      "9998  <PIL.JpegImagePlugin.JpegImageFile image mode=...       1        1\n",
      "\n",
      "[9999 rows x 3 columns]\n"
     ]
    }
   ],
   "source": [
    "images = pd.Series(list(images), name = 'Images')\n",
    "nation = pd.Series(list(nation), name = 'Nation')\n",
    "genders = pd.Series(list(genders), name = 'Genders')\n",
    "\n",
    "df = pd.concat([images, nation, genders], axis=1)\n",
    "print(df)"
   ]
  },
  {
   "cell_type": "code",
   "execution_count": 65,
   "id": "3f5712de-52cb-406e-a838-6ec2359de592",
   "metadata": {
    "tags": []
   },
   "outputs": [
    {
     "data": {
      "text/plain": [
       "array([2, 3, 0, 1, 4])"
      ]
     },
     "execution_count": 65,
     "metadata": {},
     "output_type": "execute_result"
    }
   ],
   "source": [
    "df['Nation'].unique()"
   ]
  },
  {
   "cell_type": "code",
   "execution_count": 66,
   "id": "c825c129-ddd0-4c61-8c29-5b25e7a967b9",
   "metadata": {
    "tags": []
   },
   "outputs": [
    {
     "name": "stdout",
     "output_type": "stream",
     "text": [
      "                                               Images  Nation  Genders  \\\n",
      "0   <PIL.JpegImagePlugin.JpegImageFile image mode=...       2        1   \n",
      "1   <PIL.JpegImagePlugin.JpegImageFile image mode=...       3        0   \n",
      "2   <PIL.JpegImagePlugin.JpegImageFile image mode=...       0        1   \n",
      "3   <PIL.JpegImagePlugin.JpegImageFile image mode=...       2        1   \n",
      "4   <PIL.JpegImagePlugin.JpegImageFile image mode=...       3        0   \n",
      "5   <PIL.JpegImagePlugin.JpegImageFile image mode=...       0        0   \n",
      "6   <PIL.JpegImagePlugin.JpegImageFile image mode=...       0        0   \n",
      "7   <PIL.JpegImagePlugin.JpegImageFile image mode=...       1        1   \n",
      "8   <PIL.JpegImagePlugin.JpegImageFile image mode=...       0        0   \n",
      "9   <PIL.JpegImagePlugin.JpegImageFile image mode=...       3        0   \n",
      "10  <PIL.JpegImagePlugin.JpegImageFile image mode=...       4        0   \n",
      "11  <PIL.JpegImagePlugin.JpegImageFile image mode=...       1        0   \n",
      "12  <PIL.JpegImagePlugin.JpegImageFile image mode=...       1        0   \n",
      "13  <PIL.JpegImagePlugin.JpegImageFile image mode=...       3        0   \n",
      "14  <PIL.JpegImagePlugin.JpegImageFile image mode=...       1        0   \n",
      "15  <PIL.JpegImagePlugin.JpegImageFile image mode=...       2        0   \n",
      "16  <PIL.JpegImagePlugin.JpegImageFile image mode=...       0        1   \n",
      "17  <PIL.JpegImagePlugin.JpegImageFile image mode=...       0        1   \n",
      "18  <PIL.JpegImagePlugin.JpegImageFile image mode=...       1        1   \n",
      "19  <PIL.JpegImagePlugin.JpegImageFile image mode=...       3        1   \n",
      "\n",
      "   NationLabel  \n",
      "0        Asian  \n",
      "1       Indian  \n",
      "2        White  \n",
      "3        Asian  \n",
      "4       Indian  \n",
      "5        White  \n",
      "6        White  \n",
      "7        Black  \n",
      "8        White  \n",
      "9       Indian  \n",
      "10      Others  \n",
      "11       Black  \n",
      "12       Black  \n",
      "13      Indian  \n",
      "14       Black  \n",
      "15       Asian  \n",
      "16       White  \n",
      "17       White  \n",
      "18       Black  \n",
      "19      Indian  \n"
     ]
    }
   ],
   "source": [
    "nation_labels = {\n",
    "    0: \"White\",\n",
    "    1: \"Black\",\n",
    "    2: \"Asian\",\n",
    "    3: \"Indian\",\n",
    "    4: \"Others\"\n",
    "}\n",
    "\n",
    "df['NationLabel'] = df['Nation'].map(nation_labels)\n",
    "\n",
    "print(df.head(20))\n",
    "\n",
    "\n",
    "# print(df[\"NationLabel\"].value_counts())"
   ]
  },
  {
   "cell_type": "code",
   "execution_count": 67,
   "id": "192ca0ae-394d-43b6-8ceb-6863f40e6bd9",
   "metadata": {
    "tags": []
   },
   "outputs": [
    {
     "name": "stderr",
     "output_type": "stream",
     "text": [
      "/tmp/ipykernel_25614/3268449424.py:1: DeprecationWarning: DataFrameGroupBy.apply operated on the grouping columns. This behavior is deprecated, and in a future version of pandas the grouping columns will be excluded from the operation. Either pass `include_groups=False` to exclude the groupings or explicitly select the grouping columns after groupby to silence this warning.\n",
      "  df_sampled = df.groupby('NationLabel').apply(lambda x: x.sample(min(len(x), 1600), random_state=42))\n"
     ]
    },
    {
     "data": {
      "image/png": "[encoded data removed]",
      "text/plain": [
       "<Figure size 640x480 with 1 Axes>"
      ]
     },
     "metadata": {},
     "output_type": "display_data"
    },
    {
     "name": "stdout",
     "output_type": "stream",
     "text": [
      "                                                 Images  Nation  Genders  \\\n",
      "4260  <PIL.JpegImagePlugin.JpegImageFile image mode=...       3        0   \n",
      "3748  <PIL.JpegImagePlugin.JpegImageFile image mode=...       3        0   \n",
      "385   <PIL.JpegImagePlugin.JpegImageFile image mode=...       2        0   \n",
      "6461  <PIL.JpegImagePlugin.JpegImageFile image mode=...       0        0   \n",
      "3648  <PIL.JpegImagePlugin.JpegImageFile image mode=...       3        0   \n",
      "4948  <PIL.JpegImagePlugin.JpegImageFile image mode=...       4        1   \n",
      "2897  <PIL.JpegImagePlugin.JpegImageFile image mode=...       1        1   \n",
      "6502  <PIL.JpegImagePlugin.JpegImageFile image mode=...       0        0   \n",
      "6263  <PIL.JpegImagePlugin.JpegImageFile image mode=...       0        0   \n",
      "6922  <PIL.JpegImagePlugin.JpegImageFile image mode=...       0        1   \n",
      "2507  <PIL.JpegImagePlugin.JpegImageFile image mode=...       1        0   \n",
      "4062  <PIL.JpegImagePlugin.JpegImageFile image mode=...       3        0   \n",
      "306   <PIL.JpegImagePlugin.JpegImageFile image mode=...       2        1   \n",
      "4459  <PIL.JpegImagePlugin.JpegImageFile image mode=...       3        1   \n",
      "4641  <PIL.JpegImagePlugin.JpegImageFile image mode=...       3        0   \n",
      "96    <PIL.JpegImagePlugin.JpegImageFile image mode=...       2        1   \n",
      "6277  <PIL.JpegImagePlugin.JpegImageFile image mode=...       0        0   \n",
      "2698  <PIL.JpegImagePlugin.JpegImageFile image mode=...       1        0   \n",
      "6018  <PIL.JpegImagePlugin.JpegImageFile image mode=...       0        1   \n",
      "4144  <PIL.JpegImagePlugin.JpegImageFile image mode=...       3        1   \n",
      "\n",
      "     NationLabel                          ImageFilename  \n",
      "4260      Indian  28_0_3_20170119194506507.jpg.chip.jpg  \n",
      "3748      Indian   1_0_3_20161219225012529.jpg.chip.jpg  \n",
      "385        Asian   1_0_2_20161219160949398.jpg.chip.jpg  \n",
      "6461       White   2_0_0_20170110212802305.jpg.chip.jpg  \n",
      "3648      Indian  28_0_3_20170119194455730.jpg.chip.jpg  \n",
      "4948      Others   1_1_4_20161221201923657.jpg.chip.jpg  \n",
      "2897       Black  35_1_1_20170116222717126.jpg.chip.jpg  \n",
      "6502       White  46_0_0_20170119150223726.jpg.chip.jpg  \n",
      "6263       White  70_0_0_20170104213624677.jpg.chip.jpg  \n",
      "6922       White  27_1_0_20170103183523123.jpg.chip.jpg  \n",
      "2507       Black  65_0_1_20170117194017535.jpg.chip.jpg  \n",
      "4062      Indian  50_0_3_20170119171601064.jpg.chip.jpg  \n",
      "306        Asian  26_1_2_20170116184145692.jpg.chip.jpg  \n",
      "4459      Indian  25_1_3_20170104234936774.jpg.chip.jpg  \n",
      "4641      Indian  28_0_3_20170119194818178.jpg.chip.jpg  \n",
      "96         Asian   1_1_2_20161219154531437.jpg.chip.jpg  \n",
      "6277       White  40_0_0_20170117134621935.jpg.chip.jpg  \n",
      "2698       Black  57_0_1_20170117164415527.jpg.chip.jpg  \n",
      "6018       White  27_1_0_20170103182420963.jpg.chip.jpg  \n",
      "4144      Indian  61_1_3_20170109131931185.jpg.chip.jpg  \n"
     ]
    }
   ],
   "source": [
    "df_sampled = df.groupby('NationLabel').apply(lambda x: x.sample(min(len(x), 1600), random_state=42))\n",
    "df_sampled = df_sampled.reset_index(drop=True)\n",
    "\n",
    "df_sampled['ImageFilename'] = df_sampled['Images'].apply(lambda img: os.path.basename(img.filename))\n",
    "\n",
    "plt.title('Nation')\n",
    "sns.countplot(y=df_sampled['NationLabel'], color=\"c\")\n",
    "plt.show()\n",
    "\n",
    "print(df_sampled.sample(20))"
   ]
  },
  {
   "cell_type": "code",
   "execution_count": 68,
   "id": "ebf01054-9b85-4afa-b6f4-c3f8bd792937",
   "metadata": {
    "tags": []
   },
   "outputs": [],
   "source": [
    "source_folder = os.path.expanduser(\"~/Person-feature-detection/Datasets/utkface-dataset/UTKFace\")\n",
    "white_nation_folder = os.path.expanduser(\"~/Person-feature-detection/nation/White/\")\n",
    "other_nation_folder = os.path.expanduser(\"~/Person-feature-detection/nation/Other/\")\n",
    "indian_nation_folder = os.path.expanduser(\"~/Person-feature-detection/nation/Indian/\")\n",
    "black_nation_folder = os.path.expanduser(\"~/Person-feature-detection/nation/Black/\")\n",
    "asian_nation_folder = os.path.expanduser(\"~/Person-feature-detection/nation/Asian/\")\n",
    "\n",
    "os.makedirs(white_nation_folder, exist_ok=True)\n",
    "os.makedirs(other_nation_folder, exist_ok=True)\n",
    "os.makedirs(indian_nation_folder, exist_ok=True)\n",
    "os.makedirs(black_nation_folder, exist_ok=True)\n",
    "os.makedirs(asian_nation_folder, exist_ok=True)\n",
    "\n",
    "for _, row in df_sampled.iterrows():\n",
    "    image_name = row['ImageFilename']\n",
    "    nation = row['NationLabel']\n",
    "    \n",
    "    source_path = os.path.join(source_folder, image_name)\n",
    "    \n",
    "    if nation == \"White\":\n",
    "        target_path = os.path.join(white_nation_folder, image_name)\n",
    "    elif nation == \"Others\":\n",
    "        target_path = os.path.join(other_nation_folder, image_name)\n",
    "    elif nation == \"Indian\":\n",
    "        target_path = os.path.join(indian_nation_folder, image_name)\n",
    "    elif nation == \"Black\":\n",
    "        target_path = os.path.join(black_nation_folder, image_name)\n",
    "    elif nation == \"Asian\":\n",
    "        target_path = os.path.join(asian_nation_folder, image_name)\n",
    "    \n",
    "    if os.path.exists(source_path):\n",
    "        shutil.copy(source_path, target_path)\n",
    "    else:\n",
    "        print(f\"File not found: {source_path}\")"
   ]
  },
  {
   "cell_type": "code",
   "execution_count": 69,
   "id": "6a711831-e433-445a-9015-7714ef8c7eaa",
   "metadata": {
    "tags": []
   },
   "outputs": [],
   "source": [
    "train_folder = os.path.expanduser(\"~/Person-feature-detection/nation/Train/\")\n",
    "val_folder = os.path.expanduser(\"~/Person-feature-detection/nation/Validate/\")\n",
    "test_folder = os.path.expanduser(\"~/Person-feature-detection/nation/Test/\")\n",
    "\n",
    "os.makedirs(os.path.join(train_folder, \"White\"), exist_ok=True)\n",
    "os.makedirs(os.path.join(train_folder, \"Other\"), exist_ok=True)\n",
    "os.makedirs(os.path.join(train_folder, \"Indian\"), exist_ok=True)\n",
    "os.makedirs(os.path.join(train_folder, \"Black\"), exist_ok=True)\n",
    "os.makedirs(os.path.join(train_folder, \"Asian\"), exist_ok=True)\n",
    "\n",
    "os.makedirs(os.path.join(val_folder, \"White\"), exist_ok=True)\n",
    "os.makedirs(os.path.join(val_folder, \"Other\"), exist_ok=True)\n",
    "os.makedirs(os.path.join(val_folder, \"Indian\"), exist_ok=True)\n",
    "os.makedirs(os.path.join(val_folder, \"Black\"), exist_ok=True)\n",
    "os.makedirs(os.path.join(val_folder, \"Asian\"), exist_ok=True)\n",
    "\n",
    "os.makedirs(os.path.join(test_folder, \"White\"), exist_ok=True)\n",
    "os.makedirs(os.path.join(test_folder, \"Other\"), exist_ok=True)\n",
    "os.makedirs(os.path.join(test_folder, \"Indian\"), exist_ok=True)\n",
    "os.makedirs(os.path.join(test_folder, \"Black\"), exist_ok=True)\n",
    "os.makedirs(os.path.join(test_folder, \"Asian\"), exist_ok=True)\n",
    "\n",
    "def move_images(images, source_folder, target_folder):\n",
    "    for image in images:\n",
    "        source_path = os.path.join(source_folder, image)\n",
    "        \n",
    "        if os.path.isfile(source_path):\n",
    "            target_path = os.path.join(target_folder, image)\n",
    "            shutil.copy(source_path, target_path)\n",
    "        else:\n",
    "            print(f\"Skipped: {source_path} (It's a dir not a file)\")\n",
    "\n",
    "white_nation_images = os.listdir(white_nation_folder)\n",
    "other_nation_images = os.listdir(other_nation_folder)\n",
    "indian_nation_images = os.listdir(indian_nation_folder)\n",
    "black_nation_images = os.listdir(black_nation_folder)\n",
    "asian_nation_images = os.listdir(asian_nation_folder)\n",
    "\n",
    "white_train, white_temp = train_test_split(white_nation_images, test_size=0.2, random_state=42)\n",
    "white_val, white_test = train_test_split(white_temp, test_size=0.5, random_state=42)\n",
    "\n",
    "other_train, other_temp = train_test_split(other_nation_images, test_size=0.2, random_state=42)\n",
    "other_val, other_test = train_test_split(other_temp, test_size=0.5, random_state=42)\n",
    "\n",
    "indian_train, indian_temp = train_test_split(indian_nation_images, test_size=0.2, random_state=42)\n",
    "indian_val, indian_test = train_test_split(indian_temp, test_size=0.5, random_state=42)\n",
    "\n",
    "black_train, black_temp = train_test_split(black_nation_images, test_size=0.2, random_state=42)\n",
    "black_val, black_test = train_test_split(black_temp, test_size=0.5, random_state=42)\n",
    "\n",
    "asian_train, asian_temp = train_test_split(asian_nation_images, test_size=0.2, random_state=42)\n",
    "asian_val, asian_test = train_test_split(asian_temp, test_size=0.5, random_state=42)\n",
    "\n",
    "\n",
    "# Move the images\n",
    "move_images(white_train, white_nation_folder, os.path.join(train_folder, \"White\"))\n",
    "move_images(white_val, white_nation_folder, os.path.join(val_folder, \"White\"))\n",
    "move_images(white_test, white_nation_folder, os.path.join(test_folder, \"White\"))\n",
    "\n",
    "move_images(other_train, other_nation_folder, os.path.join(train_folder, \"Other\"))\n",
    "move_images(other_val, other_nation_folder, os.path.join(val_folder, \"Other\"))\n",
    "move_images(other_test, other_nation_folder, os.path.join(test_folder, \"Other\"))\n",
    "\n",
    "move_images(indian_train, indian_nation_folder, os.path.join(train_folder, \"Indian\"))\n",
    "move_images(indian_val, indian_nation_folder, os.path.join(val_folder, \"Indian\"))\n",
    "move_images(indian_test, indian_nation_folder, os.path.join(test_folder, \"Indian\"))\n",
    "\n",
    "move_images(black_train, black_nation_folder, os.path.join(train_folder, \"Black\"))\n",
    "move_images(black_val, black_nation_folder, os.path.join(val_folder, \"Black\"))\n",
    "move_images(black_test, black_nation_folder, os.path.join(test_folder, \"Black\"))\n",
    "\n",
    "move_images(asian_train, asian_nation_folder, os.path.join(train_folder, \"Asian\"))\n",
    "move_images(asian_val, asian_nation_folder, os.path.join(val_folder, \"Asian\"))\n",
    "move_images(asian_test, asian_nation_folder, os.path.join(test_folder, \"Asian\"))"
   ]
  },
  {
   "cell_type": "code",
   "execution_count": null,
   "id": "1b259a3c-9adc-45be-b0c3-97013e6465ae",
   "metadata": {},
   "outputs": [],
   "source": []
  }
 ],
 "metadata": {
  "kernelspec": {
   "display_name": "Python 3 (ipykernel)",
   "language": "python",
   "name": "python3"
  },
  "language_info": {
   "codemirror_mode": {
    "name": "ipython",
    "version": 3
   },
   "file_extension": ".py",
   "mimetype": "text/x-python",
   "name": "python",
   "nbconvert_exporter": "python",
   "pygments_lexer": "ipython3",
   "version": "3.11.7"
  }
 },
 "nbformat": 4,
 "nbformat_minor": 5
}
