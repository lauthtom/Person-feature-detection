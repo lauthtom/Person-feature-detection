{
 "cells": [
  {
   "cell_type": "code",
   "execution_count": 1,
   "id": "8a9cf37e-557f-4a14-9519-5200b9b5a0f8",
   "metadata": {
    "tags": []
   },
   "outputs": [],
   "source": [
    "import shutil\n",
    "import os\n",
    "import zipfile\n",
    "\n",
    "import pandas as pd\n",
    "import numpy as np\n",
    "import seaborn as sns\n",
    "import matplotlib.pyplot as plt\n",
    "\n",
    "from PIL import Image, ImageOps\n",
    "from sklearn.model_selection import train_test_split"
   ]
  },
  {
   "cell_type": "code",
   "execution_count": 8,
   "id": "f47edf11-111f-4d45-bf00-3636ffb8077e",
   "metadata": {
    "tags": []
   },
   "outputs": [],
   "source": [
    "images = []\n",
    "nation = []\n",
    "genders = []\n",
    "\n",
    "# Dataset is from the following paper: https://arxiv.org/pdf/1702.08423\n",
    "for i in os.listdir(os.path.expanduser(\"~/Person-feature-detection/Datasets/utkface-dataset/utkface_aligned_cropped/crop_part1/\"))[0:10000]:\n",
    "    if i.count('_') >= 3:\n",
    "        split = i.split('_')\n",
    "        genders.append(int(split[1]))\n",
    "        nation.append(int(split[2]))\n",
    "        images.append(Image.open(os.path.expanduser(\"~/Person-feature-detection/Datasets/utkface-dataset/utkface_aligned_cropped/crop_part1/\" + i)))"
   ]
  },
  {
   "cell_type": "code",
   "execution_count": 9,
   "id": "dfcd205c-c782-4be7-af28-15d3a41f2af9",
   "metadata": {
    "tags": []
   },
   "outputs": [
    {
     "name": "stdout",
     "output_type": "stream",
     "text": [
      "                                                 Images  Nation  Genders\n",
      "0     <PIL.JpegImagePlugin.JpegImageFile image mode=...       3        0\n",
      "1     <PIL.JpegImagePlugin.JpegImageFile image mode=...       0        0\n",
      "2     <PIL.JpegImagePlugin.JpegImageFile image mode=...       1        0\n",
      "3     <PIL.JpegImagePlugin.JpegImageFile image mode=...       3        1\n",
      "4     <PIL.JpegImagePlugin.JpegImageFile image mode=...       0        0\n",
      "...                                                 ...     ...      ...\n",
      "9773  <PIL.JpegImagePlugin.JpegImageFile image mode=...       3        0\n",
      "9774  <PIL.JpegImagePlugin.JpegImageFile image mode=...       3        1\n",
      "9775  <PIL.JpegImagePlugin.JpegImageFile image mode=...       0        0\n",
      "9776  <PIL.JpegImagePlugin.JpegImageFile image mode=...       0        0\n",
      "9777  <PIL.JpegImagePlugin.JpegImageFile image mode=...       3        1\n",
      "\n",
      "[9778 rows x 3 columns]\n"
     ]
    }
   ],
   "source": [
    "images = pd.Series(list(images), name = 'Images')\n",
    "nation = pd.Series(list(nation), name = 'Nation')\n",
    "genders = pd.Series(list(genders), name = 'Genders')\n",
    "\n",
    "df = pd.concat([images, nation, genders], axis=1)\n",
    "print(df)"
   ]
  },
  {
   "cell_type": "code",
   "execution_count": 10,
   "id": "3f5712de-52cb-406e-a838-6ec2359de592",
   "metadata": {
    "tags": []
   },
   "outputs": [
    {
     "data": {
      "text/plain": [
       "array([3, 0, 1, 2, 4])"
      ]
     },
     "execution_count": 10,
     "metadata": {},
     "output_type": "execute_result"
    }
   ],
   "source": [
    "df['Nation'].unique()"
   ]
  },
  {
   "cell_type": "code",
   "execution_count": 11,
   "id": "c825c129-ddd0-4c61-8c29-5b25e7a967b9",
   "metadata": {
    "tags": []
   },
   "outputs": [
    {
     "data": {
      "text/html": [
       "<div>\n",
       "<style scoped>\n",
       "    .dataframe tbody tr th:only-of-type {\n",
       "        vertical-align: middle;\n",
       "    }\n",
       "\n",
       "    .dataframe tbody tr th {\n",
       "        vertical-align: top;\n",
       "    }\n",
       "\n",
       "    .dataframe thead th {\n",
       "        text-align: right;\n",
       "    }\n",
       "</style>\n",
       "<table border=\"1\" class=\"dataframe\">\n",
       "  <thead>\n",
       "    <tr style=\"text-align: right;\">\n",
       "      <th></th>\n",
       "      <th>Images</th>\n",
       "      <th>Nation</th>\n",
       "      <th>Genders</th>\n",
       "      <th>NationLabel</th>\n",
       "    </tr>\n",
       "  </thead>\n",
       "  <tbody>\n",
       "    <tr>\n",
       "      <th>0</th>\n",
       "      <td>&lt;PIL.JpegImagePlugin.JpegImageFile image mode=...</td>\n",
       "      <td>3</td>\n",
       "      <td>0</td>\n",
       "      <td>Indian</td>\n",
       "    </tr>\n",
       "    <tr>\n",
       "      <th>1</th>\n",
       "      <td>&lt;PIL.JpegImagePlugin.JpegImageFile image mode=...</td>\n",
       "      <td>0</td>\n",
       "      <td>0</td>\n",
       "      <td>White</td>\n",
       "    </tr>\n",
       "    <tr>\n",
       "      <th>2</th>\n",
       "      <td>&lt;PIL.JpegImagePlugin.JpegImageFile image mode=...</td>\n",
       "      <td>1</td>\n",
       "      <td>0</td>\n",
       "      <td>Black</td>\n",
       "    </tr>\n",
       "    <tr>\n",
       "      <th>3</th>\n",
       "      <td>&lt;PIL.JpegImagePlugin.JpegImageFile image mode=...</td>\n",
       "      <td>3</td>\n",
       "      <td>1</td>\n",
       "      <td>Indian</td>\n",
       "    </tr>\n",
       "    <tr>\n",
       "      <th>4</th>\n",
       "      <td>&lt;PIL.JpegImagePlugin.JpegImageFile image mode=...</td>\n",
       "      <td>0</td>\n",
       "      <td>0</td>\n",
       "      <td>White</td>\n",
       "    </tr>\n",
       "    <tr>\n",
       "      <th>...</th>\n",
       "      <td>...</td>\n",
       "      <td>...</td>\n",
       "      <td>...</td>\n",
       "      <td>...</td>\n",
       "    </tr>\n",
       "    <tr>\n",
       "      <th>9773</th>\n",
       "      <td>&lt;PIL.JpegImagePlugin.JpegImageFile image mode=...</td>\n",
       "      <td>3</td>\n",
       "      <td>0</td>\n",
       "      <td>Indian</td>\n",
       "    </tr>\n",
       "    <tr>\n",
       "      <th>9774</th>\n",
       "      <td>&lt;PIL.JpegImagePlugin.JpegImageFile image mode=...</td>\n",
       "      <td>3</td>\n",
       "      <td>1</td>\n",
       "      <td>Indian</td>\n",
       "    </tr>\n",
       "    <tr>\n",
       "      <th>9775</th>\n",
       "      <td>&lt;PIL.JpegImagePlugin.JpegImageFile image mode=...</td>\n",
       "      <td>0</td>\n",
       "      <td>0</td>\n",
       "      <td>White</td>\n",
       "    </tr>\n",
       "    <tr>\n",
       "      <th>9776</th>\n",
       "      <td>&lt;PIL.JpegImagePlugin.JpegImageFile image mode=...</td>\n",
       "      <td>0</td>\n",
       "      <td>0</td>\n",
       "      <td>White</td>\n",
       "    </tr>\n",
       "    <tr>\n",
       "      <th>9777</th>\n",
       "      <td>&lt;PIL.JpegImagePlugin.JpegImageFile image mode=...</td>\n",
       "      <td>3</td>\n",
       "      <td>1</td>\n",
       "      <td>Indian</td>\n",
       "    </tr>\n",
       "  </tbody>\n",
       "</table>\n",
       "<p>9778 rows × 4 columns</p>\n",
       "</div>"
      ],
      "text/plain": [
       "                                                 Images  Nation  Genders  \\\n",
       "0     <PIL.JpegImagePlugin.JpegImageFile image mode=...       3        0   \n",
       "1     <PIL.JpegImagePlugin.JpegImageFile image mode=...       0        0   \n",
       "2     <PIL.JpegImagePlugin.JpegImageFile image mode=...       1        0   \n",
       "3     <PIL.JpegImagePlugin.JpegImageFile image mode=...       3        1   \n",
       "4     <PIL.JpegImagePlugin.JpegImageFile image mode=...       0        0   \n",
       "...                                                 ...     ...      ...   \n",
       "9773  <PIL.JpegImagePlugin.JpegImageFile image mode=...       3        0   \n",
       "9774  <PIL.JpegImagePlugin.JpegImageFile image mode=...       3        1   \n",
       "9775  <PIL.JpegImagePlugin.JpegImageFile image mode=...       0        0   \n",
       "9776  <PIL.JpegImagePlugin.JpegImageFile image mode=...       0        0   \n",
       "9777  <PIL.JpegImagePlugin.JpegImageFile image mode=...       3        1   \n",
       "\n",
       "     NationLabel  \n",
       "0         Indian  \n",
       "1          White  \n",
       "2          Black  \n",
       "3         Indian  \n",
       "4          White  \n",
       "...          ...  \n",
       "9773      Indian  \n",
       "9774      Indian  \n",
       "9775       White  \n",
       "9776       White  \n",
       "9777      Indian  \n",
       "\n",
       "[9778 rows x 4 columns]"
      ]
     },
     "execution_count": 11,
     "metadata": {},
     "output_type": "execute_result"
    }
   ],
   "source": [
    "nation_labels = {\n",
    "    0: \"White\",\n",
    "    1: \"Black\",\n",
    "    2: \"Asian\",\n",
    "    3: \"Indian\",\n",
    "    4: \"Others\"\n",
    "}\n",
    "\n",
    "df['NationLabel'] = df['Nation'].map(nation_labels)\n",
    "\n",
    "df"
   ]
  },
  {
   "cell_type": "code",
   "execution_count": 12,
   "id": "df6828ba-7827-4098-8322-c3ac5497e283",
   "metadata": {
    "tags": []
   },
   "outputs": [],
   "source": [
    "base_dir = os.path.expanduser(\"~/Person-feature-detection/nation/\")\n",
    "splits = ['Train', 'Validate', 'Test']\n",
    "\n",
    "for split in splits:\n",
    "    for nation in nation_labels.values():\n",
    "        path = os.path.join(base_dir, split, nation)\n",
    "        os.makedirs(path, exist_ok=True)\n",
    "\n",
    "train_ratio = 0.8\n",
    "val_ratio = 0.05\n",
    "test_ratio = 0.15\n",
    "\n",
    "train_df, temp_df = train_test_split(df, test_size=val_ratio + test_ratio, stratify=df['Nation'], random_state=42)\n",
    "val_df, test_df = train_test_split(temp_df, test_size=test_ratio / (val_ratio + test_ratio), stratify=temp_df['Nation'], random_state=42)\n",
    "\n",
    "def copy_images_by_nation(dataframe, split):\n",
    "    for _, row in dataframe.iterrows():\n",
    "        image = row['Images']\n",
    "        nation_label = nation_labels[row['Nation']]\n",
    "        dest_dir = os.path.join(base_dir, split, nation_label)\n",
    "        image_path = f\"{dest_dir}/{os.path.basename(image.filename)}\"\n",
    "        image.save(image_path)\n",
    "\n",
    "copy_images_by_nation(train_df, \"Train\")\n",
    "copy_images_by_nation(val_df, \"Validate\")\n",
    "copy_images_by_nation(test_df, \"Test\")"
   ]
  },
  {
   "cell_type": "code",
   "execution_count": null,
   "id": "1b259a3c-9adc-45be-b0c3-97013e6465ae",
   "metadata": {},
   "outputs": [],
   "source": []
  }
 ],
 "metadata": {
  "kernelspec": {
   "display_name": "Python 3 (ipykernel)",
   "language": "python",
   "name": "python3"
  },
  "language_info": {
   "codemirror_mode": {
    "name": "ipython",
    "version": 3
   },
   "file_extension": ".py",
   "mimetype": "text/x-python",
   "name": "python",
   "nbconvert_exporter": "python",
   "pygments_lexer": "ipython3",
   "version": "3.11.7"
  }
 },
 "nbformat": 4,
 "nbformat_minor": 5
}
